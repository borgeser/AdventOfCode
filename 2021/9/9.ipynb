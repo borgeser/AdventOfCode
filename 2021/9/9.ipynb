{
 "cells": [
  {
   "cell_type": "code",
   "execution_count": 25,
   "metadata": {},
   "outputs": [
    {
     "data": {
      "text/plain": [
       "100-element Vector{Vector{Int64}}:\n",
       " [4, 5, 6, 7, 8, 9, 4, 3, 0, 1  …  7, 8, 9, 5, 9, 8, 6, 5, 5, 5]\n",
       " [3, 4, 5, 8, 9, 6, 3, 2, 1, 2  …  8, 9, 3, 4, 8, 9, 5, 4, 3, 4]\n",
       " [2, 3, 4, 8, 9, 5, 4, 3, 2, 9  …  5, 6, 9, 5, 6, 7, 9, 4, 2, 3]\n",
       " [1, 2, 3, 7, 8, 9, 5, 4, 9, 8  …  6, 7, 8, 9, 7, 9, 8, 9, 1, 2]\n",
       " [3, 4, 5, 6, 7, 9, 7, 9, 8, 7  …  7, 8, 9, 9, 9, 8, 7, 8, 9, 3]\n",
       " [4, 5, 6, 7, 9, 8, 9, 8, 9, 6  …  8, 9, 9, 9, 8, 7, 6, 7, 8, 9]\n",
       " [5, 6, 7, 9, 8, 7, 8, 7, 8, 9  …  9, 9, 9, 8, 8, 6, 5, 6, 7, 8]\n",
       " [8, 7, 9, 8, 7, 6, 5, 6, 7, 8  …  8, 9, 8, 7, 6, 5, 4, 5, 6, 8]\n",
       " [9, 9, 8, 7, 6, 5, 4, 6, 8, 8  …  7, 8, 9, 6, 5, 4, 3, 4, 5, 6]\n",
       " [2, 3, 9, 8, 5, 4, 3, 5, 6, 7  …  6, 9, 8, 7, 4, 3, 2, 3, 4, 5]\n",
       " [1, 9, 8, 7, 6, 5, 2, 3, 5, 6  …  9, 8, 9, 8, 5, 4, 1, 2, 3, 4]\n",
       " [0, 1, 9, 8, 6, 2, 1, 2, 3, 7  …  8, 7, 8, 9, 2, 1, 0, 1, 2, 3]\n",
       " [9, 2, 3, 9, 4, 3, 2, 3, 4, 8  …  9, 6, 5, 4, 3, 2, 1, 2, 3, 4]\n",
       " ⋮\n",
       " [6, 7, 9, 8, 7, 6, 5, 4, 5, 6  …  8, 9, 6, 5, 4, 4, 5, 7, 9, 9]\n",
       " [7, 9, 9, 9, 8, 7, 4, 3, 4, 3  …  9, 8, 7, 8, 5, 5, 6, 7, 8, 9]\n",
       " [9, 8, 9, 9, 9, 8, 3, 2, 1, 2  …  7, 9, 8, 9, 7, 6, 9, 8, 9, 9]\n",
       " [9, 7, 8, 9, 8, 7, 4, 3, 4, 3  …  9, 9, 9, 9, 8, 7, 8, 9, 9, 8]\n",
       " [8, 6, 7, 6, 9, 6, 5, 6, 5, 6  …  9, 8, 9, 9, 9, 8, 9, 9, 8, 7]\n",
       " [6, 5, 6, 5, 6, 9, 8, 7, 6, 7  …  6, 7, 8, 9, 8, 9, 9, 8, 8, 6]\n",
       " [5, 4, 5, 4, 5, 6, 9, 8, 7, 8  …  5, 6, 7, 8, 7, 8, 9, 7, 6, 5]\n",
       " [4, 3, 2, 3, 4, 5, 6, 9, 8, 9  …  4, 5, 6, 5, 6, 7, 8, 9, 5, 4]\n",
       " [5, 4, 3, 4, 5, 6, 7, 8, 9, 3  …  3, 5, 3, 4, 5, 6, 7, 8, 9, 3]\n",
       " [6, 5, 4, 7, 9, 7, 8, 9, 3, 2  …  2, 1, 2, 3, 4, 8, 9, 9, 3, 2]\n",
       " [7, 6, 5, 6, 8, 8, 9, 3, 2, 1  …  3, 2, 3, 4, 5, 6, 7, 8, 9, 1]\n",
       " [8, 7, 9, 8, 9, 9, 5, 4, 3, 2  …  4, 5, 4, 6, 6, 7, 8, 9, 1, 0]"
      ]
     },
     "execution_count": 25,
     "metadata": {},
     "output_type": "execute_result"
    }
   ],
   "source": [
    "lines = readlines(\"input.txt\") .|> l -> split(l, \"\") .|> x -> parse(Int, x)"
   ]
  },
  {
   "cell_type": "code",
   "execution_count": 26,
   "metadata": {},
   "outputs": [
    {
     "data": {
      "text/plain": [
       "get_neighbours (generic function with 1 method)"
      ]
     },
     "execution_count": 26,
     "metadata": {},
     "output_type": "execute_result"
    }
   ],
   "source": [
    "function is_in_bounds(row, col, grid)\n",
    "    return (1 ≤ row ≤ length(grid)) && (1 ≤ col ≤ length(grid[1]))\n",
    "end\n",
    "\n",
    "function get_neighbours(row, col, grid)\n",
    "    neighbours = Int[]\n",
    "    for deltas in [(-1, 0), (1, 0), (0, -1), (0, 1)]\n",
    "        neigh_row = row + deltas[1]\n",
    "        neigh_col = col + deltas[2]\n",
    "        if is_in_bounds(neigh_row, neigh_col, grid)\n",
    "            push!(neighbours, grid[neigh_row][neigh_col])\n",
    "        end\n",
    "    end\n",
    "    return neighbours\n",
    "end"
   ]
  },
  {
   "cell_type": "code",
   "execution_count": 27,
   "metadata": {},
   "outputs": [
    {
     "data": {
      "text/plain": [
       "get_risk_levels (generic function with 1 method)"
      ]
     },
     "execution_count": 27,
     "metadata": {},
     "output_type": "execute_result"
    }
   ],
   "source": [
    "function get_risk_levels(grid)\n",
    "    risk_levels = Int[]\n",
    "    for row in 1:length(grid)\n",
    "        for col in 1:length(grid[1])\n",
    "            elem = grid[row][col]\n",
    "            if all(elem .< get_neighbours(row, col, grid))\n",
    "                push!(risk_levels, elem + 1)\n",
    "            end\n",
    "        end\n",
    "    end\n",
    "    return risk_levels\n",
    "end"
   ]
  },
  {
   "cell_type": "code",
   "execution_count": 28,
   "metadata": {},
   "outputs": [
    {
     "data": {
      "text/plain": [
       "425"
      ]
     },
     "execution_count": 28,
     "metadata": {},
     "output_type": "execute_result"
    }
   ],
   "source": [
    "part1 = sum(get_risk_levels(lines))"
   ]
  },
  {
   "cell_type": "code",
   "execution_count": 29,
   "metadata": {},
   "outputs": [
    {
     "data": {
      "text/plain": [
       "part2 (generic function with 1 method)"
      ]
     },
     "execution_count": 29,
     "metadata": {},
     "output_type": "execute_result"
    }
   ],
   "source": [
    "function basin_new_neighbours!(row, col, grid, visited)\n",
    "    neighbours = Tuple{Int, Int}[]\n",
    "    for deltas in [(-1, 0), (1, 0), (0, -1), (0, 1)]\n",
    "        neigh_row = row + deltas[1]\n",
    "        neigh_col = col + deltas[2]\n",
    "        neigh = (neigh_row, neigh_col)\n",
    "        if is_in_bounds(neigh_row, neigh_col, grid) && neigh ∉ visited\n",
    "            push!(visited, neigh)\n",
    "            if grid[neigh_row][neigh_col] < 9\n",
    "                push!(neighbours, neigh)\n",
    "            end\n",
    "        end\n",
    "    end\n",
    "    return neighbours\n",
    "end\n",
    "\n",
    "function get_new_neighbours!(points, grid, visited)\n",
    "    neighbours = Tuple{Int, Int}[]\n",
    "    for point in points\n",
    "        append!(neighbours, basin_new_neighbours!(point[1], point[2], grid, visited))\n",
    "    end\n",
    "    return neighbours\n",
    "end\n",
    "\n",
    "function get_basin!(row, col, grid, visited)\n",
    "    push!(visited, (row, col))\n",
    "    if grid[row][col] == 9\n",
    "       return [] \n",
    "    end\n",
    "\n",
    "    basin = [(row, col)]\n",
    "    neighbours = basin_new_neighbours!(row, col, grid, visited)\n",
    "    append!(basin, neighbours)\n",
    "    while length(neighbours) != 0\n",
    "        neighbours = get_new_neighbours!(neighbours, grid, visited)\n",
    "        append!(basin, neighbours)\n",
    "    end\n",
    "    return basin\n",
    "end\n",
    "\n",
    "function get_basins(grid)\n",
    "    basins = []\n",
    "    remaining = Set([(row, col) for row in 1:length(grid) for col in 1:length(grid[1])])\n",
    "    visited = Set{Tuple{Int, Int}}()\n",
    "    while length(remaining) > 0\n",
    "        cell = first(remaining)\n",
    "        push!(basins, get_basin!(cell[1], cell[2], grid, visited))\n",
    "        remaining = setdiff(remaining, visited)\n",
    "    end\n",
    "    return basins\n",
    "end\n",
    "\n",
    "function part2(grid)\n",
    "    basins_length = get_basins(grid) .|> length\n",
    "    sorted_length = sort(basins_length, rev=true)\n",
    "    return sorted_length[1] * sorted_length[2] * sorted_length[3]\n",
    "end"
   ]
  },
  {
   "cell_type": "code",
   "execution_count": 30,
   "metadata": {},
   "outputs": [
    {
     "data": {
      "text/plain": [
       "1135260"
      ]
     },
     "execution_count": 30,
     "metadata": {},
     "output_type": "execute_result"
    }
   ],
   "source": [
    "part2(lines)"
   ]
  }
 ],
 "metadata": {
  "kernelspec": {
   "display_name": "Julia 1.7.0",
   "language": "julia",
   "name": "julia-1.7"
  },
  "language_info": {
   "file_extension": ".jl",
   "mimetype": "application/julia",
   "name": "julia",
   "version": "1.7.0"
  }
 },
 "nbformat": 4,
 "nbformat_minor": 4
}
