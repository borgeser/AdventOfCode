{
 "cells": [
  {
   "cell_type": "code",
   "execution_count": 123,
   "metadata": {},
   "outputs": [
    {
     "data": {
      "text/plain": [
       "parseInt (generic function with 1 method)"
      ]
     },
     "execution_count": 123,
     "metadata": {},
     "output_type": "execute_result"
    }
   ],
   "source": [
    "parseInt(x) = parse(Int, x)"
   ]
  },
  {
   "cell_type": "code",
   "execution_count": 124,
   "metadata": {},
   "outputs": [
    {
     "data": {
      "text/plain": [
       "601-element Vector{String}:\n",
       " \"79,9,13,43,53,51,40,47,56,27,0,\" ⋯ 228 bytes ⋯ \",3,46,67,90,62,20,5,52,99,81,4\"\n",
       " \"\"\n",
       " \" 7 42 22 92 60\"\n",
       " \" 8 88 99 13 12\"\n",
       " \"16 62 86 24 77\"\n",
       " \"20 57 19 67 46\"\n",
       " \"36 83 54 63 82\"\n",
       " \"\"\n",
       " \" 7 86 50 78 16\"\n",
       " \"83 45 67 94 58\"\n",
       " \"21 98 99 85 43\"\n",
       " \"71 19 31 22  4\"\n",
       " \"70 51 34 11 61\"\n",
       " ⋮\n",
       " \"\"\n",
       " \" 0 69 51 12 82\"\n",
       " \" 4 81 62  2 49\"\n",
       " \"27 66 95 83 70\"\n",
       " \"94 97 99 63 19\"\n",
       " \"87 75 77 73 44\"\n",
       " \"\"\n",
       " \"82 83 75 95 53\"\n",
       " \"46 47 31 14 64\"\n",
       " \"71 70 11 51 87\"\n",
       " \" 7 16 63 38 29\"\n",
       " \"89 13 33 41  0\""
      ]
     },
     "execution_count": 124,
     "metadata": {},
     "output_type": "execute_result"
    }
   ],
   "source": [
    "raw_lines = readlines(\"input.txt\")"
   ]
  },
  {
   "cell_type": "code",
   "execution_count": 125,
   "metadata": {},
   "outputs": [
    {
     "data": {
      "text/plain": [
       "split_lines (generic function with 1 method)"
      ]
     },
     "execution_count": 125,
     "metadata": {},
     "output_type": "execute_result"
    }
   ],
   "source": [
    "function split_lines(lines)\n",
    "    result = Vector{String}[]\n",
    "    current = String[]\n",
    "    for l in lines\n",
    "        if isempty(l)\n",
    "            push!(result, current)\n",
    "            current = String[]\n",
    "        else\n",
    "            push!(current, l)\n",
    "        end\n",
    "    end\n",
    "    if !isempty(current)\n",
    "        push!(result, current)\n",
    "    end\n",
    "    return result\n",
    "end"
   ]
  },
  {
   "cell_type": "code",
   "execution_count": 126,
   "metadata": {},
   "outputs": [
    {
     "data": {
      "text/plain": [
       "101-element Vector{Vector{String}}:\n",
       " [\"79,9,13,43,53,51,40,47,56,27,0,14,33,60,61,36,72,48,83,42,10,86,41,75,16,80,15,93,95,45,68,96,84,11,85,63,18,31,35,74,71,91,39,88,55,6,21,12,58,29,69,37,44,98,89,78,17,64,59,76,54,30,65,82,28,50,32,77,66,24,1,70,92,23,8,49,38,73,94,26,22,34,97,25,87,19,57,7,2,3,46,67,90,62,20,5,52,99,81,4\"]\n",
       " [\" 7 42 22 92 60\", \" 8 88 99 13 12\", \"16 62 86 24 77\", \"20 57 19 67 46\", \"36 83 54 63 82\"]\n",
       " [\" 7 86 50 78 16\", \"83 45 67 94 58\", \"21 98 99 85 43\", \"71 19 31 22  4\", \"70 51 34 11 61\"]\n",
       " [\" 4 95 84 51 36\", \"43 40 37 23 85\", \"14 90  8 59 99\", \" 0 88 68 93 81\", \"25  6 55 19 48\"]\n",
       " [\"15 39 78  6 13\", \"71  3 81 95 62\", \"22 46 67 72 40\", \"89 69  0 37 41\", \"68 79 58 16 42\"]\n",
       " [\"63 50 77 34 12\", \"29 42 20 17 47\", \"80 10 30 72 66\", \" 5 89 64 25 21\", \"91 88 45 44 37\"]\n",
       " [\"78 89 32 26 56\", \" 8 40 54 25 49\", \"36 30 21 23  3\", \"12 58  2 29  7\", \"33 99 15 84 44\"]\n",
       " [\"96 68 56 49 43\", \"55 22 16 91 32\", \" 2 17 61 12 37\", \"25 72  1 31 88\", \"57 34 42  8 71\"]\n",
       " [\"18 39 86 94 60\", \"96 85 64 51 28\", \"48 14 23 36 35\", \" 6 84 99 90 81\", \"43 41 74 68 32\"]\n",
       " [\" 9 58 60  7 61\", \"96 33 67  0 19\", \"77  2 14 99 79\", \"13 36 90 95 29\", \"86 91 49 72 20\"]\n",
       " [\" 3 79 24 37 97\", \"86 10 77 31 32\", \"48 89 35 73 94\", \"65 21 23 82 36\", \"26 51 69 12 99\"]\n",
       " [\"66 28 73  6 32\", \"11 30 35 42 76\", \"33 40 25 89 52\", \"46 88 55 50 64\", \"86 71 75 36 80\"]\n",
       " [\"36 34 35 68 49\", \"61  3 24 84 71\", \"47 42 91 39 80\", \"25 51 38 59 62\", \"90 21 28 52  8\"]\n",
       " ⋮\n",
       " [\"10 85 17 38 22\", \"46 35 90 12 27\", \"76 42  7  2 30\", \"55 57 60  9 49\", \"79 73 97  1 21\"]\n",
       " [\"52 36 11 82 91\", \"22  7 46 21 12\", \"62 42 66 68 10\", \"31 18 76 20 84\", \"28 79 61 39 86\"]\n",
       " [\"73 99 34 54 45\", \"43 28 18 76 40\", \"57 58 63  9 11\", \"89 65  2 12 90\", \"38 97 49 15 27\"]\n",
       " [\"28 84 24 17 49\", \"33 69 75 53 92\", \"81 48 89 19 34\", \"59  1 18 72 79\", \" 6 22  2 86 85\"]\n",
       " [\"72 78 30 40 19\", \"54 16 25 81 28\", \"41 99  7 79 14\", \"83 76 29  8 91\", \" 5 60 11 51 37\"]\n",
       " [\"77 78 34 59 29\", \"62 69 54  8 97\", \"80 53 25 66 85\", \"81 90 31 51 52\", \"63 41 57 68 18\"]\n",
       " [\"43 62 11 41  7\", \"37 44 34 10 51\", \"67 36 61 77 70\", \"59  1 25 42 88\", \"29 71 60 15 24\"]\n",
       " [\"30 65 57 35 84\", \"34 33 72 73 28\", \"38 51  4 52 14\", \"58 59 85 87 39\", \"88 81 11 93 71\"]\n",
       " [\"19  5 23 71 75\", \"70  9 57 69 14\", \"49 29 22 28 10\", \"42 48 63 73  6\", \"79 18  4 39 88\"]\n",
       " [\"16 27 31 88 86\", \"29 40 65 68 39\", \"15 95 93 69 22\", \"66 48 18 84 11\", \" 7 51 92 96 99\"]\n",
       " [\" 0 69 51 12 82\", \" 4 81 62  2 49\", \"27 66 95 83 70\", \"94 97 99 63 19\", \"87 75 77 73 44\"]\n",
       " [\"82 83 75 95 53\", \"46 47 31 14 64\", \"71 70 11 51 87\", \" 7 16 63 38 29\", \"89 13 33 41  0\"]"
      ]
     },
     "execution_count": 126,
     "metadata": {},
     "output_type": "execute_result"
    }
   ],
   "source": [
    "groups = split_lines(raw_lines)"
   ]
  },
  {
   "cell_type": "code",
   "execution_count": 127,
   "metadata": {},
   "outputs": [
    {
     "data": {
      "text/plain": [
       "matrixize (generic function with 1 method)"
      ]
     },
     "execution_count": 127,
     "metadata": {},
     "output_type": "execute_result"
    }
   ],
   "source": [
    "function matrixize(lines)\n",
    "    get_row(line) = split(line) .|> parseInt\n",
    "    rows = get_row.(lines)\n",
    "    return hcat(rows...)'\n",
    "end"
   ]
  },
  {
   "cell_type": "code",
   "execution_count": 128,
   "metadata": {},
   "outputs": [
    {
     "data": {
      "text/plain": [
       "100-element Vector{Int64}:\n",
       " 79\n",
       "  9\n",
       " 13\n",
       " 43\n",
       " 53\n",
       " 51\n",
       " 40\n",
       " 47\n",
       " 56\n",
       " 27\n",
       "  0\n",
       " 14\n",
       " 33\n",
       "  ⋮\n",
       "  2\n",
       "  3\n",
       " 46\n",
       " 67\n",
       " 90\n",
       " 62\n",
       " 20\n",
       "  5\n",
       " 52\n",
       " 99\n",
       " 81\n",
       "  4"
      ]
     },
     "execution_count": 128,
     "metadata": {},
     "output_type": "execute_result"
    }
   ],
   "source": [
    "chosen_numbers = split(groups[1][1], \",\") .|> parseInt"
   ]
  },
  {
   "cell_type": "code",
   "execution_count": 129,
   "metadata": {},
   "outputs": [
    {
     "data": {
      "text/plain": [
       "100-element Vector{LinearAlgebra.Adjoint{Int64, Matrix{Int64}}}:\n",
       " [7 42 … 92 60; 8 88 … 13 12; … ; 20 57 … 67 46; 36 83 … 63 82]\n",
       " [7 86 … 78 16; 83 45 … 94 58; … ; 71 19 … 22 4; 70 51 … 11 61]\n",
       " [4 95 … 51 36; 43 40 … 23 85; … ; 0 88 … 93 81; 25 6 … 19 48]\n",
       " [15 39 … 6 13; 71 3 … 95 62; … ; 89 69 … 37 41; 68 79 … 16 42]\n",
       " [63 50 … 34 12; 29 42 … 17 47; … ; 5 89 … 25 21; 91 88 … 44 37]\n",
       " [78 89 … 26 56; 8 40 … 25 49; … ; 12 58 … 29 7; 33 99 … 84 44]\n",
       " [96 68 … 49 43; 55 22 … 91 32; … ; 25 72 … 31 88; 57 34 … 8 71]\n",
       " [18 39 … 94 60; 96 85 … 51 28; … ; 6 84 … 90 81; 43 41 … 68 32]\n",
       " [9 58 … 7 61; 96 33 … 0 19; … ; 13 36 … 95 29; 86 91 … 72 20]\n",
       " [3 79 … 37 97; 86 10 … 31 32; … ; 65 21 … 82 36; 26 51 … 12 99]\n",
       " [66 28 … 6 32; 11 30 … 42 76; … ; 46 88 … 50 64; 86 71 … 36 80]\n",
       " [36 34 … 68 49; 61 3 … 84 71; … ; 25 51 … 59 62; 90 21 … 52 8]\n",
       " [19 93 … 40 55; 41 11 … 9 70; … ; 12 4 … 60 0; 36 77 … 33 83]\n",
       " ⋮\n",
       " [10 85 … 38 22; 46 35 … 12 27; … ; 55 57 … 9 49; 79 73 … 1 21]\n",
       " [52 36 … 82 91; 22 7 … 21 12; … ; 31 18 … 20 84; 28 79 … 39 86]\n",
       " [73 99 … 54 45; 43 28 … 76 40; … ; 89 65 … 12 90; 38 97 … 15 27]\n",
       " [28 84 … 17 49; 33 69 … 53 92; … ; 59 1 … 72 79; 6 22 … 86 85]\n",
       " [72 78 … 40 19; 54 16 … 81 28; … ; 83 76 … 8 91; 5 60 … 51 37]\n",
       " [77 78 … 59 29; 62 69 … 8 97; … ; 81 90 … 51 52; 63 41 … 68 18]\n",
       " [43 62 … 41 7; 37 44 … 10 51; … ; 59 1 … 42 88; 29 71 … 15 24]\n",
       " [30 65 … 35 84; 34 33 … 73 28; … ; 58 59 … 87 39; 88 81 … 93 71]\n",
       " [19 5 … 71 75; 70 9 … 69 14; … ; 42 48 … 73 6; 79 18 … 39 88]\n",
       " [16 27 … 88 86; 29 40 … 68 39; … ; 66 48 … 84 11; 7 51 … 96 99]\n",
       " [0 69 … 12 82; 4 81 … 2 49; … ; 94 97 … 63 19; 87 75 … 73 44]\n",
       " [82 83 … 95 53; 46 47 … 14 64; … ; 7 16 … 38 29; 89 13 … 41 0]"
      ]
     },
     "execution_count": 129,
     "metadata": {},
     "output_type": "execute_result"
    }
   ],
   "source": [
    "matrixs = matrixize.(groups[2:end])"
   ]
  },
  {
   "cell_type": "code",
   "execution_count": 130,
   "metadata": {},
   "outputs": [
    {
     "data": {
      "text/plain": [
       "part1 (generic function with 1 method)"
      ]
     },
     "execution_count": 130,
     "metadata": {},
     "output_type": "execute_result"
    }
   ],
   "source": [
    "winner_mask(number, matrix) = matrix .== number\n",
    "\n",
    "zerosInt(size) = zeros(Int, size)\n",
    "\n",
    "function is_winner(grid)\n",
    "    return (maximum(sum(grid, dims = 1)) == 5) || (maximum(sum(grid, dims = 2)) == 5)\n",
    "end\n",
    "\n",
    "function get_winner(numbers, matrixs)\n",
    "    grids = map(zerosInt ∘ size, matrixs)\n",
    "    for number in numbers\n",
    "        for i in 1:length(matrixs)\n",
    "            grids[i] = grids[i] .| winner_mask(number, matrixs[i])\n",
    "            if is_winner(grids[i])\n",
    "                return matrixs[i], grids[i], number\n",
    "            end\n",
    "        end\n",
    "    end\n",
    "end\n",
    "\n",
    "function part1(numbers, matrixs)\n",
    "    matrix, grid, number = get_winner(numbers, matrixs)\n",
    "    unmarked_numbers = iszero.(grid) .* matrix\n",
    "    return sum(unmarked_numbers) * number\n",
    "end"
   ]
  },
  {
   "cell_type": "code",
   "execution_count": 131,
   "metadata": {},
   "outputs": [
    {
     "data": {
      "text/plain": [
       "44736"
      ]
     },
     "execution_count": 131,
     "metadata": {},
     "output_type": "execute_result"
    }
   ],
   "source": [
    "part1(chosen_numbers, matrixs)"
   ]
  },
  {
   "cell_type": "code",
   "execution_count": 132,
   "metadata": {},
   "outputs": [
    {
     "data": {
      "text/plain": [
       "part2 (generic function with 1 method)"
      ]
     },
     "execution_count": 132,
     "metadata": {},
     "output_type": "execute_result"
    }
   ],
   "source": [
    "function get_loser(numbers, matrixs)\n",
    "    grids = map(zerosInt ∘ size, matrixs)\n",
    "    for number in numbers\n",
    "        for i in 1:length(matrixs)\n",
    "            grids[i] = grids[i] .| winner_mask(number, matrixs[i])\n",
    "            not_winners = filter(!is_winner, grids)\n",
    "            if length(not_winners) == 0\n",
    "                return matrixs[i], grids[i], number\n",
    "            end\n",
    "        end\n",
    "    end\n",
    "end\n",
    "\n",
    "function part2(numbers, matrixs)\n",
    "    matrix, grid, number = get_loser(numbers, matrixs)\n",
    "    unmarked_numbers = iszero.(grid) .* matrix\n",
    "    return sum(unmarked_numbers) * number\n",
    "end"
   ]
  },
  {
   "cell_type": "code",
   "execution_count": 133,
   "metadata": {},
   "outputs": [
    {
     "data": {
      "text/plain": [
       "1827"
      ]
     },
     "execution_count": 133,
     "metadata": {},
     "output_type": "execute_result"
    }
   ],
   "source": [
    "part2(chosen_numbers, matrixs)"
   ]
  }
 ],
 "metadata": {
  "kernelspec": {
   "display_name": "Julia 1.7.0",
   "language": "julia",
   "name": "julia-1.7"
  },
  "language_info": {
   "file_extension": ".jl",
   "mimetype": "application/julia",
   "name": "julia",
   "version": "1.7.0"
  }
 },
 "nbformat": 4,
 "nbformat_minor": 4
}
