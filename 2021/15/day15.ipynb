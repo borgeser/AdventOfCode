{
 "cells": [
  {
   "cell_type": "code",
   "execution_count": 1,
   "metadata": {},
   "outputs": [
    {
     "data": {
      "text/plain": [
       "matrixize (generic function with 1 method)"
      ]
     },
     "execution_count": 1,
     "metadata": {},
     "output_type": "execute_result"
    }
   ],
   "source": [
    "function matrixize(lines)\n",
    "    get_row(line) = split(line, \"\") .|> x -> parse(Int, x)\n",
    "    rows = get_row.(lines)\n",
    "    return hcat(rows...)'\n",
    "end"
   ]
  },
  {
   "cell_type": "code",
   "execution_count": 75,
   "metadata": {},
   "outputs": [
    {
     "data": {
      "text/plain": [
       "100×100 adjoint(::Matrix{Int64}) with eltype Int64:\n",
       " 4  3  9  5  1  9  4  5  7  5  9  2  9  …  7  2  5  1  3  2  1  9  3  6  6  2\n",
       " 1  7  1  5  7  1  9  2  2  8  7  5  9     8  4  2  7  9  2  9  7  9  8  3  6\n",
       " 5  6  4  1  9  5  7  9  4  7  3  9  9     9  3  5  9  2  6  9  8  9  9  6  5\n",
       " 2  5  8  5  4  9  7  8  5  1  3  1  8     8  6  1  7  3  2  9  4  9  9  4  2\n",
       " 6  3  2  6  1  2  1  2  9  3  6  2  9     9  1  7  8  9  6  9  7  1  9  1  9\n",
       " 1  1  9  7  8  9  1  1  9  3  1  6  3  …  7  9  6  8  3  3  3  2  8  7  9  7\n",
       " 9  9  7  1  9  4  1  1  7  6  2  3  6     7  5  9  8  9  7  9  4  6  8  8  3\n",
       " 8  9  9  9  2  9  4  4  2  2  7  1  1     9  7  2  3  9  9  2  8  9  8  9  6\n",
       " 3  3  4  9  2  9  1  4  9  3  8  8  7     7  9  7  1  8  3  6  5  9  1  5  7\n",
       " 7  1  8  9  4  3  9  8  3  5  6  1  6     5  8  8  3  4  2  7  1  7  1  7  4\n",
       " 9  9  1  9  6  8  7  9  3  1  9  9  1  …  8  6  1  1  9  2  2  2  7  8  1  3\n",
       " 8  5  5  6  7  5  2  1  1  9  9  4  8     4  9  9  8  8  1  7  6  9  8  7  7\n",
       " 1  9  7  9  9  4  7  8  1  9  6  9  8     9  4  1  1  8  9  6  5  1  2  1  9\n",
       " ⋮              ⋮              ⋮        ⋱        ⋮              ⋮           \n",
       " 2  2  2  3  9  7  7  8  9  8  9  9  8     7  1  9  9  1  7  9  9  4  9  1  7\n",
       " 2  1  6  9  1  1  5  3  8  8  5  6  3     4  8  4  7  9  4  1  8  6  4  2  8\n",
       " 8  1  8  1  9  7  9  1  4  8  7  8  9  …  9  1  7  1  9  8  5  9  8  7  5  3\n",
       " 7  2  9  8  8  9  8  6  6  2  1  4  9     4  4  5  2  9  7  2  8  9  7  9  9\n",
       " 3  2  9  5  6  3  6  9  6  6  1  7  8     7  2  1  1  6  4  1  7  4  6  4  7\n",
       " 1  1  9  8  8  1  6  5  7  1  4  7  1     9  5  9  8  9  7  9  9  1  8  9  2\n",
       " 5  6  1  8  9  6  2  8  4  6  1  8  5     9  4  6  4  8  5  9  9  3  9  8  1\n",
       " 9  3  4  7  2  9  1  6  6  9  5  2  3  …  7  7  9  6  5  6  7  1  8  1  7  4\n",
       " 1  2  1  1  5  4  1  5  9  1  2  9  2     1  9  2  3  7  3  1  6  6  9  9  6\n",
       " 1  7  9  7  3  3  9  1  8  9  1  7  3     9  9  8  2  2  4  1  3  6  1  8  9\n",
       " 3  4  2  1  5  5  1  8  9  7  1  1  4     9  1  9  4  9  9  8  5  8  9  6  8\n",
       " 1  9  7  1  4  7  3  9  8  8  8  4  3     7  3  2  4  3  2  5  6  5  4  5  7"
      ]
     },
     "execution_count": 75,
     "metadata": {},
     "output_type": "execute_result"
    }
   ],
   "source": [
    "lines = readlines(\"input.txt\")\n",
    "grid = matrixize(lines)"
   ]
  },
  {
   "cell_type": "code",
   "execution_count": 76,
   "metadata": {},
   "outputs": [
    {
     "data": {
      "text/plain": [
       "get_neighbours (generic function with 1 method)"
      ]
     },
     "execution_count": 76,
     "metadata": {},
     "output_type": "execute_result"
    }
   ],
   "source": [
    "function is_in_bounds(point, grid_size)\n",
    "    return (1 ≤ point[1] ≤ grid_size[1]) && (1 ≤ point[2] ≤ grid_size[2])\n",
    "end\n",
    "\n",
    "function get_neighbours(point, grid_size)\n",
    "    neighbours = [(point[1] + deltas[1], point[2] + deltas[2]) for deltas in [(-1, 0), (1, 0), (0, -1), (0, 1)]]\n",
    "    return filter(x -> is_in_bounds(x, grid_size), neighbours)\n",
    "end"
   ]
  },
  {
   "cell_type": "code",
   "execution_count": 77,
   "metadata": {},
   "outputs": [
    {
     "name": "stderr",
     "output_type": "stream",
     "text": [
      "\u001b[32m\u001b[1m   Resolving\u001b[22m\u001b[39m package versions...\n",
      "\u001b[32m\u001b[1m  No Changes\u001b[22m\u001b[39m to `~/.julia/environments/v1.7/Project.toml`\n",
      "\u001b[32m\u001b[1m  No Changes\u001b[22m\u001b[39m to `~/.julia/environments/v1.7/Manifest.toml`\n"
     ]
    }
   ],
   "source": [
    "using Pkg\n",
    "Pkg.add(\"DataStructures\")\n",
    "\n",
    "import DataStructures: DefaultDict, BinaryHeap"
   ]
  },
  {
   "cell_type": "code",
   "execution_count": 78,
   "metadata": {},
   "outputs": [
    {
     "data": {
      "text/plain": [
       "a_star (generic function with 1 method)"
      ]
     },
     "execution_count": 78,
     "metadata": {},
     "output_type": "execute_result"
    }
   ],
   "source": [
    "Coordinate = Tuple{Int, Int}\n",
    "\n",
    "heuri(point, end_point) = abs(end_point[1] - point[1]) + abs(end_point[2] - point[2])\n",
    "\n",
    "lowest_f_score(points, f_scores) = BinaryHeap(Base.By(first), [(f_scores[p], p) for p in points]) |> first |> last\n",
    "\n",
    "function reconstruct_path(came_from, current)\n",
    "    total_path = [current]\n",
    "    while current in keys(came_from)\n",
    "        current = came_from[current]\n",
    "        pushfirst!(total_path, current)\n",
    "    end\n",
    "    return total_path\n",
    "end\n",
    "\n",
    "# courtesy of https://en.wikipedia.org/wiki/A%2a_search_algorithm\n",
    "function a_star(start, goal, grid)\n",
    "    grid_size = size(grid)\n",
    "    open_set = Set([start])\n",
    "    came_from = Dict{Coordinate, Coordinate}()\n",
    "    \n",
    "    g_scores = DefaultDict{Coordinate, Float64}(Inf)\n",
    "    g_scores[start] = 0\n",
    "    \n",
    "    f_scores = DefaultDict{Coordinate, Float64}(Inf)\n",
    "    f_scores[start] = heuri(start, goal)\n",
    "    \n",
    "    while length(open_set) > 0\n",
    "        current = lowest_f_score(open_set, f_scores)\n",
    "        \n",
    "        if current == goal\n",
    "            # return reconstruct_path(came_from, current)\n",
    "            return g_scores[current]\n",
    "        end\n",
    "        \n",
    "        setdiff!(open_set, [current])\n",
    "\n",
    "        for neighbor in get_neighbours(current, grid_size)\n",
    "            tentative_g_score = g_scores[current] + grid[CartesianIndex(neighbor)]\n",
    "            if tentative_g_score < g_scores[neighbor]\n",
    "                came_from[neighbor] = current\n",
    "                g_scores[neighbor] = tentative_g_score\n",
    "                f_scores[neighbor] = tentative_g_score + heuri(neighbor, goal)\n",
    "                if !(neighbor in open_set)\n",
    "                    push!(open_set, neighbor)\n",
    "                end\n",
    "            end\n",
    "        end\n",
    "    end\n",
    "    return nothing\n",
    "end"
   ]
  },
  {
   "cell_type": "code",
   "execution_count": 79,
   "metadata": {},
   "outputs": [
    {
     "data": {
      "text/plain": [
       "619.0"
      ]
     },
     "execution_count": 79,
     "metadata": {},
     "output_type": "execute_result"
    }
   ],
   "source": [
    "a_star((1,1), size(grid), grid)"
   ]
  },
  {
   "cell_type": "code",
   "execution_count": 80,
   "metadata": {},
   "outputs": [
    {
     "data": {
      "text/plain": [
       "add (generic function with 1 method)"
      ]
     },
     "execution_count": 80,
     "metadata": {},
     "output_type": "execute_result"
    }
   ],
   "source": [
    "add(n, grid) = (grid .+ (n-1)) .% 9 .+1"
   ]
  },
  {
   "cell_type": "code",
   "execution_count": 81,
   "metadata": {},
   "outputs": [
    {
     "data": {
      "text/plain": [
       "expand (generic function with 1 method)"
      ]
     },
     "execution_count": 81,
     "metadata": {},
     "output_type": "execute_result"
    }
   ],
   "source": [
    "function expand(n, grid)\n",
    "    blocks = [add(i, grid) for i in 0:n-1]\n",
    "    macro_cols = [vcat([add(i, b) for i in 0:n-1]...) for b in blocks]\n",
    "    return hcat(macro_cols...)\n",
    "end"
   ]
  },
  {
   "cell_type": "code",
   "execution_count": 82,
   "metadata": {},
   "outputs": [
    {
     "data": {
      "text/plain": [
       "500×500 Matrix{Int64}:\n",
       " 4  3  9  5  1  9  4  5  7  5  9  2  9  …  2  6  9  5  7  6  5  4  7  1  1  6\n",
       " 1  7  1  5  7  1  9  2  2  8  7  5  9     3  8  6  2  4  6  4  2  4  3  7  1\n",
       " 5  6  4  1  9  5  7  9  4  7  3  9  9     4  7  9  4  6  1  4  3  4  4  1  9\n",
       " 2  5  8  5  4  9  7  8  5  1  3  1  8     3  1  5  2  7  6  4  8  4  4  8  6\n",
       " 6  3  2  6  1  2  1  2  9  3  6  2  9     4  5  2  3  4  1  4  2  5  4  5  4\n",
       " 1  1  9  7  8  9  1  1  9  3  1  6  3  …  2  4  1  3  7  7  7  6  3  2  4  2\n",
       " 9  9  7  1  9  4  1  1  7  6  2  3  6     2  9  4  3  4  2  4  8  1  3  3  7\n",
       " 8  9  9  9  2  9  4  4  2  2  7  1  1     4  2  6  7  4  4  6  3  4  3  4  1\n",
       " 3  3  4  9  2  9  1  4  9  3  8  8  7     2  4  2  5  3  7  1  9  4  5  9  2\n",
       " 7  1  8  9  4  3  9  8  3  5  6  1  6     9  3  3  7  8  6  2  5  2  5  2  8\n",
       " 9  9  1  9  6  8  7  9  3  1  9  9  1  …  3  1  5  5  4  6  6  6  2  3  5  7\n",
       " 8  5  5  6  7  5  2  1  1  9  9  4  8     8  4  4  3  3  5  2  1  4  3  2  2\n",
       " 1  9  7  9  9  4  7  8  1  9  6  9  8     4  8  5  5  3  4  1  9  5  6  5  4\n",
       " ⋮              ⋮              ⋮        ⋱        ⋮              ⋮           \n",
       " 6  6  6  7  4  2  2  3  4  3  4  4  3     6  9  8  8  9  6  8  8  3  8  9  6\n",
       " 6  5  1  4  5  5  9  7  3  3  9  1  7     3  7  3  6  8  3  9  7  5  3  1  7\n",
       " 3  5  3  5  4  2  4  5  8  3  2  3  4  …  8  9  6  9  8  7  4  8  7  6  4  2\n",
       " 2  6  4  3  3  4  3  1  1  6  5  8  4     3  3  4  1  8  6  1  7  8  6  8  8\n",
       " 7  6  4  9  1  7  1  4  1  1  5  2  3     6  1  9  9  5  3  9  6  3  5  3  6\n",
       " 5  5  4  3  3  5  1  9  2  5  8  2  5     8  4  8  7  8  6  8  8  9  7  8  1\n",
       " 9  1  5  3  4  1  6  3  8  1  5  3  9     8  3  5  3  7  4  8  8  2  8  7  9\n",
       " 4  7  8  2  6  4  5  1  1  4  9  6  7  …  6  6  8  5  4  5  6  9  7  9  6  3\n",
       " 5  6  5  5  9  8  5  9  4  5  6  4  6     9  8  1  2  6  2  9  5  5  8  8  5\n",
       " 5  2  4  2  7  7  4  5  3  4  5  2  7     8  8  7  1  1  3  9  2  5  9  7  8\n",
       " 7  8  6  5  9  9  5  3  4  2  5  5  8     8  9  8  3  8  8  7  4  7  8  5  7\n",
       " 5  4  2  5  8  2  7  4  3  3  3  8  7     6  2  1  3  2  1  4  5  4  3  4  6"
      ]
     },
     "execution_count": 82,
     "metadata": {},
     "output_type": "execute_result"
    }
   ],
   "source": [
    "big_grid = expand(5, grid)"
   ]
  },
  {
   "cell_type": "code",
   "execution_count": 83,
   "metadata": {},
   "outputs": [
    {
     "data": {
      "text/plain": [
       "2922.0"
      ]
     },
     "execution_count": 83,
     "metadata": {},
     "output_type": "execute_result"
    }
   ],
   "source": [
    "a_star((1,1), size(big_grid), big_grid)"
   ]
  }
 ],
 "metadata": {
  "kernelspec": {
   "display_name": "Julia 1.7.0",
   "language": "julia",
   "name": "julia-1.7"
  },
  "language_info": {
   "file_extension": ".jl",
   "mimetype": "application/julia",
   "name": "julia",
   "version": "1.7.0"
  }
 },
 "nbformat": 4,
 "nbformat_minor": 4
}
