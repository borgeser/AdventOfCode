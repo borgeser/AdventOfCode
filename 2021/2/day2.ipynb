{
 "cells": [
  {
   "cell_type": "code",
   "execution_count": 1,
   "metadata": {},
   "outputs": [
    {
     "data": {
      "text/plain": [
       "1000-element Vector{String}:\n",
       " \"forward 8\"\n",
       " \"down 9\"\n",
       " \"forward 2\"\n",
       " \"down 1\"\n",
       " \"forward 9\"\n",
       " \"forward 7\"\n",
       " \"forward 5\"\n",
       " \"up 3\"\n",
       " \"up 3\"\n",
       " \"down 5\"\n",
       " \"forward 2\"\n",
       " \"down 8\"\n",
       " \"down 3\"\n",
       " ⋮\n",
       " \"forward 5\"\n",
       " \"forward 3\"\n",
       " \"up 4\"\n",
       " \"down 5\"\n",
       " \"down 5\"\n",
       " \"forward 3\"\n",
       " \"forward 9\"\n",
       " \"down 9\"\n",
       " \"up 6\"\n",
       " \"up 7\"\n",
       " \"down 7\"\n",
       " \"forward 7\""
      ]
     },
     "execution_count": 1,
     "metadata": {},
     "output_type": "execute_result"
    }
   ],
   "source": [
    "raw_commands = readlines(\"input.txt\")"
   ]
  },
  {
   "cell_type": "code",
   "execution_count": 2,
   "metadata": {},
   "outputs": [
    {
     "data": {
      "text/plain": [
       "1000-element Vector{Tuple{SubString{String}, SubString{String}}}:\n",
       " (\"forward\", \"8\")\n",
       " (\"down\", \"9\")\n",
       " (\"forward\", \"2\")\n",
       " (\"down\", \"1\")\n",
       " (\"forward\", \"9\")\n",
       " (\"forward\", \"7\")\n",
       " (\"forward\", \"5\")\n",
       " (\"up\", \"3\")\n",
       " (\"up\", \"3\")\n",
       " (\"down\", \"5\")\n",
       " (\"forward\", \"2\")\n",
       " (\"down\", \"8\")\n",
       " (\"down\", \"3\")\n",
       " ⋮\n",
       " (\"forward\", \"5\")\n",
       " (\"forward\", \"3\")\n",
       " (\"up\", \"4\")\n",
       " (\"down\", \"5\")\n",
       " (\"down\", \"5\")\n",
       " (\"forward\", \"3\")\n",
       " (\"forward\", \"9\")\n",
       " (\"down\", \"9\")\n",
       " (\"up\", \"6\")\n",
       " (\"up\", \"7\")\n",
       " (\"down\", \"7\")\n",
       " (\"forward\", \"7\")"
      ]
     },
     "execution_count": 2,
     "metadata": {},
     "output_type": "execute_result"
    }
   ],
   "source": [
    "tuple_commands = (Tuple ∘ split).(raw_commands)"
   ]
  },
  {
   "cell_type": "code",
   "execution_count": 12,
   "metadata": {},
   "outputs": [
    {
     "data": {
      "text/plain": [
       "1000-element Vector{Tuple{SubString{String}, Int64}}:\n",
       " (\"forward\", 8)\n",
       " (\"down\", 9)\n",
       " (\"forward\", 2)\n",
       " (\"down\", 1)\n",
       " (\"forward\", 9)\n",
       " (\"forward\", 7)\n",
       " (\"forward\", 5)\n",
       " (\"up\", 3)\n",
       " (\"up\", 3)\n",
       " (\"down\", 5)\n",
       " (\"forward\", 2)\n",
       " (\"down\", 8)\n",
       " (\"down\", 3)\n",
       " ⋮\n",
       " (\"forward\", 5)\n",
       " (\"forward\", 3)\n",
       " (\"up\", 4)\n",
       " (\"down\", 5)\n",
       " (\"down\", 5)\n",
       " (\"forward\", 3)\n",
       " (\"forward\", 9)\n",
       " (\"down\", 9)\n",
       " (\"up\", 6)\n",
       " (\"up\", 7)\n",
       " (\"down\", 7)\n",
       " (\"forward\", 7)"
      ]
     },
     "execution_count": 12,
     "metadata": {},
     "output_type": "execute_result"
    }
   ],
   "source": [
    "# sad\n",
    "# parseIntR = ((a,b),) -> (a, parse(Int64, b))\n",
    "# better\n",
    "parseIntR((a,b)) = a, parse(Int64, b)\n",
    "commands = map(parseIntR, tuple_commands)"
   ]
  },
  {
   "cell_type": "code",
   "execution_count": 13,
   "metadata": {},
   "outputs": [
    {
     "data": {
      "text/plain": [
       "part1 (generic function with 1 method)"
      ]
     },
     "execution_count": 13,
     "metadata": {},
     "output_type": "execute_result"
    }
   ],
   "source": [
    "function part1(commands)\n",
    "    x = 0\n",
    "    y = 0\n",
    "    for (mouv, qty) in commands\n",
    "        if mouv == \"forward\"\n",
    "            x += qty\n",
    "        elseif mouv == \"down\"\n",
    "            y += qty\n",
    "        elseif mouv == \"up\"\n",
    "            y -= qty\n",
    "        end\n",
    "    end\n",
    "    return x * y\n",
    "end"
   ]
  },
  {
   "cell_type": "code",
   "execution_count": 14,
   "metadata": {},
   "outputs": [
    {
     "data": {
      "text/plain": [
       "1580000"
      ]
     },
     "execution_count": 14,
     "metadata": {},
     "output_type": "execute_result"
    }
   ],
   "source": [
    "part1(commands)"
   ]
  },
  {
   "cell_type": "code",
   "execution_count": 15,
   "metadata": {},
   "outputs": [
    {
     "data": {
      "text/plain": [
       "part2 (generic function with 1 method)"
      ]
     },
     "execution_count": 15,
     "metadata": {},
     "output_type": "execute_result"
    }
   ],
   "source": [
    "function part2(commands)\n",
    "    x = 0\n",
    "    y = 0\n",
    "    aim = 0\n",
    "    for (mouv, qty) in commands\n",
    "        if mouv == \"forward\"\n",
    "            x += qty\n",
    "            y += aim * qty\n",
    "        elseif mouv == \"down\"\n",
    "            aim += qty\n",
    "        elseif mouv == \"up\"\n",
    "            aim -= qty\n",
    "        end\n",
    "    end\n",
    "    return x * y\n",
    "end"
   ]
  },
  {
   "cell_type": "code",
   "execution_count": 16,
   "metadata": {},
   "outputs": [
    {
     "data": {
      "text/plain": [
       "1251263225"
      ]
     },
     "execution_count": 16,
     "metadata": {},
     "output_type": "execute_result"
    }
   ],
   "source": [
    "part2(commands)"
   ]
  },
  {
   "cell_type": "code",
   "execution_count": null,
   "metadata": {},
   "outputs": [],
   "source": []
  }
 ],
 "metadata": {
  "kernelspec": {
   "display_name": "Julia 1.7.0",
   "language": "julia",
   "name": "julia-1.7"
  },
  "language_info": {
   "file_extension": ".jl",
   "mimetype": "application/julia",
   "name": "julia",
   "version": "1.7.0"
  }
 },
 "nbformat": 4,
 "nbformat_minor": 4
}
