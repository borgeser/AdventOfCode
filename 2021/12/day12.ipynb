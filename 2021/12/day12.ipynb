{
 "cells": [
  {
   "cell_type": "code",
   "execution_count": 113,
   "metadata": {},
   "outputs": [
    {
     "name": "stderr",
     "output_type": "stream",
     "text": [
      "\u001b[32m\u001b[1m   Resolving\u001b[22m\u001b[39m package versions...\n",
      "\u001b[32m\u001b[1m  No Changes\u001b[22m\u001b[39m to `~/.julia/environments/v1.7/Project.toml`\n",
      "\u001b[32m\u001b[1m  No Changes\u001b[22m\u001b[39m to `~/.julia/environments/v1.7/Manifest.toml`\n"
     ]
    }
   ],
   "source": [
    "using Pkg\n",
    "Pkg.add(\"StatsBase\")\n",
    "\n",
    "import StatsBase: countmap"
   ]
  },
  {
   "cell_type": "code",
   "execution_count": 119,
   "metadata": {},
   "outputs": [
    {
     "data": {
      "text/plain": [
       "part1 (generic function with 1 method)"
      ]
     },
     "execution_count": 119,
     "metadata": {},
     "output_type": "execute_result"
    }
   ],
   "source": [
    "function get_associate(from, edge)\n",
    "   if edge[1] == from\n",
    "        return edge[2]\n",
    "    elseif edge[2] == from\n",
    "        return edge[1]\n",
    "    else\n",
    "       return nothing \n",
    "    end\n",
    "end\n",
    "\n",
    "function connected_nodes(from, edges)::Vector{String}\n",
    "    associates = map(e -> get_associate(from, e), edges)\n",
    "    return filter(!isnothing, associates)\n",
    "end\n",
    "\n",
    "function continue_path(path, edges)\n",
    "    neighbours = connected_nodes(path[end], edges)\n",
    "    return [vcat(path, n) for n in neighbours]\n",
    "end\n",
    "\n",
    "function has_invalid_loop(path)\n",
    "    counted_nodes = countmap(path)\n",
    "    looped_nodes = filter(k -> counted_nodes[k] >= 2, keys(counted_nodes))\n",
    "    invalid_nodes = filter(n -> islowercase(n[1]), looped_nodes)\n",
    "    return length(invalid_nodes) > 0\n",
    "end\n",
    "\n",
    "function continue_and_validate_paths(paths, edges)\n",
    "    continued_paths = map(p -> continue_path(p, edges), paths)\n",
    "    all_paths = vcat(continued_paths...)\n",
    "    return filter(!has_invalid_loop, all_paths)\n",
    "end\n",
    "\n",
    "function part1(edges)\n",
    "    ongoing_paths = [[\"start\"]]\n",
    "    correct_paths = []\n",
    "    while length(ongoing_paths) > 0\n",
    "        ongoing_paths = continue_and_validate_paths(ongoing_paths, edges)\n",
    "        finished_paths = filter(p -> p[end] == \"end\", ongoing_paths)\n",
    "        append!(correct_paths, finished_paths)\n",
    "        ongoing_paths = filter(p -> p[end] != \"end\", ongoing_paths)\n",
    "    end\n",
    "    return length(correct_paths)\n",
    "end"
   ]
  },
  {
   "cell_type": "code",
   "execution_count": 182,
   "metadata": {},
   "outputs": [
    {
     "data": {
      "text/plain": [
       "25-element Vector{Vector{SubString{String}}}:\n",
       " [\"XW\", \"ed\"]\n",
       " [\"cc\", \"tk\"]\n",
       " [\"eq\", \"ed\"]\n",
       " [\"ns\", \"eq\"]\n",
       " [\"cc\", \"ed\"]\n",
       " [\"LA\", \"kl\"]\n",
       " [\"II\", \"tk\"]\n",
       " [\"LA\", \"end\"]\n",
       " [\"end\", \"II\"]\n",
       " [\"SQ\", \"kl\"]\n",
       " [\"cc\", \"kl\"]\n",
       " [\"XW\", \"eq\"]\n",
       " [\"ed\", \"LA\"]\n",
       " [\"XW\", \"tk\"]\n",
       " [\"cc\", \"II\"]\n",
       " [\"tk\", \"LA\"]\n",
       " [\"eq\", \"II\"]\n",
       " [\"SQ\", \"start\"]\n",
       " [\"LA\", \"start\"]\n",
       " [\"XW\", \"end\"]\n",
       " [\"ed\", \"tk\"]\n",
       " [\"eq\", \"JR\"]\n",
       " [\"start\", \"kl\"]\n",
       " [\"ed\", \"II\"]\n",
       " [\"SQ\", \"tk\"]"
      ]
     },
     "execution_count": 182,
     "metadata": {},
     "output_type": "execute_result"
    }
   ],
   "source": [
    "edges = readlines(\"input.txt\") .|> l -> split(l, \"-\")"
   ]
  },
  {
   "cell_type": "code",
   "execution_count": 183,
   "metadata": {},
   "outputs": [
    {
     "data": {
      "text/plain": [
       "3679"
      ]
     },
     "execution_count": 183,
     "metadata": {},
     "output_type": "execute_result"
    }
   ],
   "source": [
    "part1(edges)"
   ]
  },
  {
   "cell_type": "code",
   "execution_count": 184,
   "metadata": {},
   "outputs": [
    {
     "data": {
      "text/plain": [
       "part2 (generic function with 1 method)"
      ]
     },
     "execution_count": 184,
     "metadata": {},
     "output_type": "execute_result"
    }
   ],
   "source": [
    "function has_invalid_loop_2(path)\n",
    "    counted_nodes = countmap(path)\n",
    "    looped_nodes = filter(k -> counted_nodes[k] >= 2, keys(counted_nodes))\n",
    "    invalid_nodes = filter(n -> islowercase(n[1]), looped_nodes)\n",
    "    if \"start\" in invalid_nodes || \"end\" in invalid_nodes\n",
    "        return true\n",
    "    elseif length(invalid_nodes) > 1\n",
    "        return true\n",
    "    elseif length(invalid_nodes) == 0\n",
    "        return false\n",
    "    else # length(invalid_nodes) == 1\n",
    "        return counted_nodes[first(invalid_nodes)] > 2\n",
    "    end\n",
    "end\n",
    "\n",
    "function continue_and_validate_paths_2(paths, edges)\n",
    "    continued_paths = map(p -> continue_path(p, edges), paths)\n",
    "    all_paths = vcat(continued_paths...)\n",
    "    return filter(!has_invalid_loop_2, all_paths)\n",
    "end\n",
    "\n",
    "function part2(edges)\n",
    "    ongoing_paths = [[\"start\"]]\n",
    "    correct_paths = []\n",
    "    while length(ongoing_paths) > 0\n",
    "        ongoing_paths = continue_and_validate_paths_2(ongoing_paths, edges)\n",
    "        finished_paths = filter(p -> p[end] == \"end\", ongoing_paths)\n",
    "        append!(correct_paths, finished_paths)\n",
    "        ongoing_paths = filter(p -> p[end] != \"end\", ongoing_paths)\n",
    "    end\n",
    "    return length(correct_paths)\n",
    "end"
   ]
  },
  {
   "cell_type": "code",
   "execution_count": 185,
   "metadata": {},
   "outputs": [
    {
     "data": {
      "text/plain": [
       "107395"
      ]
     },
     "execution_count": 185,
     "metadata": {},
     "output_type": "execute_result"
    }
   ],
   "source": [
    "part2(edges)"
   ]
  }
 ],
 "metadata": {
  "kernelspec": {
   "display_name": "Julia 1.7.0",
   "language": "julia",
   "name": "julia-1.7"
  },
  "language_info": {
   "file_extension": ".jl",
   "mimetype": "application/julia",
   "name": "julia",
   "version": "1.7.0"
  }
 },
 "nbformat": 4,
 "nbformat_minor": 4
}
