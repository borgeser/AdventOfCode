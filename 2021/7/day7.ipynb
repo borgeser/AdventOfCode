{
 "cells": [
  {
   "cell_type": "code",
   "execution_count": 44,
   "metadata": {},
   "outputs": [],
   "source": [
    "using Statistics"
   ]
  },
  {
   "cell_type": "code",
   "execution_count": 76,
   "metadata": {},
   "outputs": [
    {
     "data": {
      "text/plain": [
       "1000-element Vector{Int64}:\n",
       " 1101\n",
       "    1\n",
       "   29\n",
       "   67\n",
       " 1102\n",
       "    0\n",
       "    1\n",
       "   65\n",
       " 1008\n",
       "   65\n",
       "   35\n",
       "   66\n",
       " 1005\n",
       "    ⋮\n",
       "  310\n",
       "  950\n",
       "  282\n",
       " 1475\n",
       " 1233\n",
       "   75\n",
       "  501\n",
       "  446\n",
       "  439\n",
       "   12\n",
       "  739\n",
       "  151"
      ]
     },
     "execution_count": 76,
     "metadata": {},
     "output_type": "execute_result"
    }
   ],
   "source": [
    "positions = split(readline(\"input.txt\"), \",\") .|> x -> parse(Int, x)"
   ]
  },
  {
   "cell_type": "code",
   "execution_count": 77,
   "metadata": {},
   "outputs": [
    {
     "data": {
      "text/plain": [
       "part1 (generic function with 1 method)"
      ]
     },
     "execution_count": 77,
     "metadata": {},
     "output_type": "execute_result"
    }
   ],
   "source": [
    "function get_fuel(positions, destination)\n",
    "    distances = map(x -> abs(x - destination), positions)\n",
    "    return sum(distances)\n",
    "end\n",
    "\n",
    "function part1(positions)\n",
    "    destination = median(positions)\n",
    "    return get_fuel(positions, destination)\n",
    "end"
   ]
  },
  {
   "cell_type": "code",
   "execution_count": 78,
   "metadata": {},
   "outputs": [
    {
     "data": {
      "text/plain": [
       "333755.0"
      ]
     },
     "execution_count": 78,
     "metadata": {},
     "output_type": "execute_result"
    }
   ],
   "source": [
    "part1(positions)"
   ]
  },
  {
   "cell_type": "code",
   "execution_count": 79,
   "metadata": {},
   "outputs": [
    {
     "data": {
      "text/plain": [
       "part2 (generic function with 1 method)"
      ]
     },
     "execution_count": 79,
     "metadata": {},
     "output_type": "execute_result"
    }
   ],
   "source": [
    "function exponential_fuel(from, to)\n",
    "    dist = abs(to - from)\n",
    "    return dist * (dist + 1) / 2\n",
    "end\n",
    "\n",
    "function get_exponential_fuel(positions, destination)\n",
    "    distances = map(x -> exponential_fuel(x, destination), positions)\n",
    "    return sum(distances)\n",
    "end\n",
    "\n",
    "function part2(positions)\n",
    "    fuels = map(x -> get_exponential_fuel(positions, x), minimum(positions):maximum(positions))\n",
    "    return minimum(fuels)\n",
    "end"
   ]
  },
  {
   "cell_type": "code",
   "execution_count": 84,
   "metadata": {},
   "outputs": [
    {
     "data": {
      "text/plain": [
       "9.4017638e7"
      ]
     },
     "execution_count": 84,
     "metadata": {},
     "output_type": "execute_result"
    }
   ],
   "source": [
    "part2(positions)"
   ]
  }
 ],
 "metadata": {
  "kernelspec": {
   "display_name": "Julia 1.7.0",
   "language": "julia",
   "name": "julia-1.7"
  },
  "language_info": {
   "file_extension": ".jl",
   "mimetype": "application/julia",
   "name": "julia",
   "version": "1.7.0"
  }
 },
 "nbformat": 4,
 "nbformat_minor": 4
}
