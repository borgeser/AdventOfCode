{
 "cells": [
  {
   "cell_type": "code",
   "execution_count": 27,
   "metadata": {},
   "outputs": [],
   "source": [
    "using Statistics"
   ]
  },
  {
   "cell_type": "code",
   "execution_count": 28,
   "metadata": {},
   "outputs": [
    {
     "data": {
      "text/plain": [
       "1000-element Vector{Int64}:\n",
       " 1101\n",
       "    1\n",
       "   29\n",
       "   67\n",
       " 1102\n",
       "    0\n",
       "    1\n",
       "   65\n",
       " 1008\n",
       "   65\n",
       "   35\n",
       "   66\n",
       " 1005\n",
       "    ⋮\n",
       "  310\n",
       "  950\n",
       "  282\n",
       " 1475\n",
       " 1233\n",
       "   75\n",
       "  501\n",
       "  446\n",
       "  439\n",
       "   12\n",
       "  739\n",
       "  151"
      ]
     },
     "execution_count": 28,
     "metadata": {},
     "output_type": "execute_result"
    }
   ],
   "source": [
    "positions = split(readline(\"input.txt\"), \",\") .|> x -> parse(Int, x)"
   ]
  },
  {
   "cell_type": "code",
   "execution_count": 29,
   "metadata": {},
   "outputs": [
    {
     "data": {
      "text/plain": [
       "part1 (generic function with 1 method)"
      ]
     },
     "execution_count": 29,
     "metadata": {},
     "output_type": "execute_result"
    }
   ],
   "source": [
    "function get_fuel(positions, destination)\n",
    "    distances = map(x -> abs(x - destination), positions)\n",
    "    return sum(distances)\n",
    "end\n",
    "\n",
    "function part1(positions)\n",
    "    destination = median(positions)\n",
    "    return get_fuel(positions, destination)\n",
    "end"
   ]
  },
  {
   "cell_type": "code",
   "execution_count": 30,
   "metadata": {},
   "outputs": [
    {
     "data": {
      "text/plain": [
       "333755.0"
      ]
     },
     "execution_count": 30,
     "metadata": {},
     "output_type": "execute_result"
    }
   ],
   "source": [
    "part1(positions)"
   ]
  }
 ],
 "metadata": {
  "kernelspec": {
   "display_name": "Julia 1.7.0",
   "language": "julia",
   "name": "julia-1.7"
  },
  "language_info": {
   "file_extension": ".jl",
   "mimetype": "application/julia",
   "name": "julia",
   "version": "1.7.0"
  }
 },
 "nbformat": 4,
 "nbformat_minor": 4
}
