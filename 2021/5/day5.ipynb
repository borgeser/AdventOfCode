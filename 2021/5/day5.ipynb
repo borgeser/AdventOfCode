{
 "cells": [
  {
   "cell_type": "code",
   "execution_count": 85,
   "metadata": {},
   "outputs": [
    {
     "data": {
      "text/plain": [
       "tuplify (generic function with 1 method)"
      ]
     },
     "execution_count": 85,
     "metadata": {},
     "output_type": "execute_result"
    }
   ],
   "source": [
    "parseInt(x) = parse(Int, x)\n",
    "\n",
    "function tuplify(str)\n",
    "    elems = split(str, \",\") .|> parseInt\n",
    "    return tuple(elems...)\n",
    "end"
   ]
  },
  {
   "cell_type": "code",
   "execution_count": 98,
   "metadata": {},
   "outputs": [
    {
     "data": {
      "text/plain": [
       "500-element Vector{Vector{Tuple{Int64, Int64}}}:\n",
       " [(414, 379), (827, 379)]\n",
       " [(683, 947), (183, 947)]\n",
       " [(156, 577), (480, 577)]\n",
       " [(939, 503), (939, 959)]\n",
       " [(388, 907), (388, 349)]\n",
       " [(73, 572), (539, 106)]\n",
       " [(530, 157), (530, 530)]\n",
       " [(959, 896), (123, 60)]\n",
       " [(416, 698), (475, 698)]\n",
       " [(856, 281), (856, 943)]\n",
       " [(658, 767), (806, 915)]\n",
       " [(774, 799), (252, 799)]\n",
       " [(763, 833), (763, 469)]\n",
       " ⋮\n",
       " [(498, 885), (191, 885)]\n",
       " [(479, 283), (724, 283)]\n",
       " [(62, 695), (337, 695)]\n",
       " [(844, 557), (844, 969)]\n",
       " [(937, 980), (44, 87)]\n",
       " [(312, 99), (939, 726)]\n",
       " [(19, 988), (905, 988)]\n",
       " [(262, 185), (262, 26)]\n",
       " [(367, 369), (84, 369)]\n",
       " [(29, 161), (845, 977)]\n",
       " [(105, 30), (105, 693)]\n",
       " [(764, 830), (91, 157)]"
      ]
     },
     "execution_count": 98,
     "metadata": {},
     "output_type": "execute_result"
    }
   ],
   "source": [
    "raw_lines = readlines(\"input.txt\")\n",
    "splitted_lines = map(x -> split(x, \"->\") .|> strip, raw_lines)\n",
    "lines = map(x -> tuplify.(x), splitted_lines)"
   ]
  },
  {
   "cell_type": "code",
   "execution_count": 99,
   "metadata": {},
   "outputs": [
    {
     "data": {
      "text/plain": [
       "get_intermediates_points (generic function with 2 methods)"
      ]
     },
     "execution_count": 99,
     "metadata": {},
     "output_type": "execute_result"
    }
   ],
   "source": [
    "function is_vertical(coordinates)\n",
    "    return coordinates[1][1] == coordinates[2][1]\n",
    "end\n",
    "\n",
    "function is_horizontal(coordinates)\n",
    "    return coordinates[1][2] == coordinates[2][2]\n",
    "end\n",
    "\n",
    "function order_x_coordinates(coordinates)\n",
    "    if coordinates[1][1] < coordinates[2][1]\n",
    "        return coordinates[1], coordinates[2]\n",
    "    else\n",
    "        return coordinates[2], coordinates[1]\n",
    "    end\n",
    "end\n",
    "\n",
    "function get_intermediates_points(coordinates, use_diago)\n",
    "    points = Tuple{Int, Int}[]\n",
    "    if is_horizontal(coordinates)\n",
    "        y = coordinates[1][2]\n",
    "        for i in min(coordinates[1][1], coordinates[2][1]):max(coordinates[1][1], coordinates[2][1])\n",
    "            push!(points, (i, y))\n",
    "        end\n",
    "    elseif is_vertical(coordinates)\n",
    "        x = coordinates[1][1]\n",
    "        for i in min(coordinates[1][2], coordinates[2][2]):max(coordinates[1][2], coordinates[2][2])\n",
    "            push!(points, (x, i))\n",
    "        end\n",
    "    else\n",
    "        if use_diago\n",
    "            min_x_coord, max_x_coord = order_x_coordinates(coordinates)\n",
    "            if min_x_coord[2] < max_x_coord[2]\n",
    "                for i in 0:(max_x_coord[2] - min_x_coord[2])\n",
    "                    push!(points, (min_x_coord[1] + i, min_x_coord[2] + i))\n",
    "                end\n",
    "            else\n",
    "                for i in 0:(min_x_coord[2] - max_x_coord[2])\n",
    "                    push!(points, (min_x_coord[1] + i, min_x_coord[2] - i))\n",
    "                end\n",
    "            end\n",
    "        end\n",
    "    end\n",
    "    return points\n",
    "end"
   ]
  },
  {
   "cell_type": "code",
   "execution_count": 100,
   "metadata": {},
   "outputs": [
    {
     "data": {
      "text/plain": [
       "part2 (generic function with 1 method)"
      ]
     },
     "execution_count": 100,
     "metadata": {},
     "output_type": "execute_result"
    }
   ],
   "source": [
    "function draw_grid(lines, use_diago)\n",
    "    grid = Dict{Tuple{Int, Int}, Int}()\n",
    "    for line in lines\n",
    "        for point in get_intermediates_points(line, use_diago)\n",
    "            grid[point] = get(grid, point, 0) + 1\n",
    "        end\n",
    "    end\n",
    "    return grid\n",
    "end\n",
    "\n",
    "function part1(lines)\n",
    "    grid = draw_grid(lines, false)\n",
    "    return sum(values(grid) .>= 2)\n",
    "end\n",
    "\n",
    "function part2(lines)\n",
    "    grid = draw_grid(lines, true)\n",
    "    return sum(values(grid) .>= 2)\n",
    "end"
   ]
  },
  {
   "cell_type": "code",
   "execution_count": 101,
   "metadata": {},
   "outputs": [
    {
     "data": {
      "text/plain": [
       "6461"
      ]
     },
     "execution_count": 101,
     "metadata": {},
     "output_type": "execute_result"
    }
   ],
   "source": [
    "part1(lines)"
   ]
  },
  {
   "cell_type": "code",
   "execution_count": 102,
   "metadata": {},
   "outputs": [
    {
     "data": {
      "text/plain": [
       "18065"
      ]
     },
     "execution_count": 102,
     "metadata": {},
     "output_type": "execute_result"
    }
   ],
   "source": [
    "part2(lines)"
   ]
  }
 ],
 "metadata": {
  "kernelspec": {
   "display_name": "Julia 1.7.0",
   "language": "julia",
   "name": "julia-1.7"
  },
  "language_info": {
   "file_extension": ".jl",
   "mimetype": "application/julia",
   "name": "julia",
   "version": "1.7.0"
  }
 },
 "nbformat": 4,
 "nbformat_minor": 4
}
