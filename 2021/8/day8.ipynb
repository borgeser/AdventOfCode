{
 "cells": [
  {
   "cell_type": "code",
   "execution_count": 332,
   "metadata": {},
   "outputs": [
    {
     "data": {
      "text/plain": [
       "10-element Vector{Vector{Vector{SubString{String}}}}:\n",
       " [[\"be\", \"cfbegad\", \"cbdgef\", \"fgaecd\", \"cgeb\", \"fdcge\", \"agebfd\", \"fecdb\", \"fabcd\", \"edb\"], [\"fdgacbe\", \"cefdb\", \"cefbgd\", \"gcbe\"]]\n",
       " [[\"edbfga\", \"begcd\", \"cbg\", \"gc\", \"gcadebf\", \"fbgde\", \"acbgfd\", \"abcde\", \"gfcbed\", \"gfec\"], [\"fcgedb\", \"cgb\", \"dgebacf\", \"gc\"]]\n",
       " [[\"fgaebd\", \"cg\", \"bdaec\", \"gdafb\", \"agbcfd\", \"gdcbef\", \"bgcad\", \"gfac\", \"gcb\", \"cdgabef\"], [\"cg\", \"cg\", \"fdcagb\", \"cbg\"]]\n",
       " [[\"fbegcd\", \"cbd\", \"adcefb\", \"dageb\", \"afcb\", \"bc\", \"aefdc\", \"ecdab\", \"fgdeca\", \"fcdbega\"], [\"efabcd\", \"cedba\", \"gadfec\", \"cb\"]]\n",
       " [[\"aecbfdg\", \"fbg\", \"gf\", \"bafeg\", \"dbefa\", \"fcge\", \"gcbea\", \"fcaegb\", \"dgceab\", \"fcbdga\"], [\"gecf\", \"egdcabf\", \"bgf\", \"bfgea\"]]\n",
       " [[\"fgeab\", \"ca\", \"afcebg\", \"bdacfeg\", \"cfaedg\", \"gcfdb\", \"baec\", \"bfadeg\", \"bafgc\", \"acf\"], [\"gebdcfa\", \"ecba\", \"ca\", \"fadegcb\"]]\n",
       " [[\"dbcfg\", \"fgd\", \"bdegcaf\", \"fgec\", \"aegbdf\", \"ecdfab\", \"fbedc\", \"dacgb\", \"gdcebf\", \"gf\"], [\"cefg\", \"dcbef\", \"fcge\", \"gbcadfe\"]]\n",
       " [[\"bdfegc\", \"cbegaf\", \"gecbf\", \"dfcage\", \"bdacg\", \"ed\", \"bedf\", \"ced\", \"adcbefg\", \"gebcd\"], [\"ed\", \"bcgafe\", \"cdgba\", \"cbgef\"]]\n",
       " [[\"egadfb\", \"cdbfeg\", \"cegd\", \"fecab\", \"cgb\", \"gbdefca\", \"cg\", \"fgcdab\", \"egfdb\", \"bfceg\"], [\"gbdfcae\", \"bgc\", \"cg\", \"cgb\"]]\n",
       " [[\"gcafb\", \"gcf\", \"dcaebfg\", \"ecagb\", \"gf\", \"abcdeg\", \"gaef\", \"cafbge\", \"fdbac\", \"fegbdc\"], [\"fgae\", \"cfgab\", \"fg\", \"bagce\"]]"
      ]
     },
     "execution_count": 332,
     "metadata": {},
     "output_type": "execute_result"
    }
   ],
   "source": [
    "lines = readlines(\"example.txt\") .|> l -> split(l, \"|\") .|> split"
   ]
  },
  {
   "cell_type": "code",
   "execution_count": 333,
   "metadata": {},
   "outputs": [
    {
     "data": {
      "text/plain": [
       "part1 (generic function with 2 methods)"
      ]
     },
     "execution_count": 333,
     "metadata": {},
     "output_type": "execute_result"
    }
   ],
   "source": [
    "function part1(lines)\n",
    "    results = [l[2] for l in lines]\n",
    "    lengths_1_4_7_8 = [2, 4, 3, 7]\n",
    "    numbers_1_4_7_8 = map(line -> filter(x -> length(x) in lengths_1_4_7_8, line), results)\n",
    "    return sum(length.(numbers_1_4_7_8))\n",
    "end"
   ]
  },
  {
   "cell_type": "code",
   "execution_count": 334,
   "metadata": {},
   "outputs": [
    {
     "data": {
      "text/plain": [
       "26"
      ]
     },
     "execution_count": 334,
     "metadata": {},
     "output_type": "execute_result"
    }
   ],
   "source": [
    "part1(lines)"
   ]
  },
  {
   "cell_type": "code",
   "execution_count": 372,
   "metadata": {},
   "outputs": [
    {
     "data": {
      "text/plain": [
       "deduce_mapping (generic function with 1 method)"
      ]
     },
     "execution_count": 372,
     "metadata": {},
     "output_type": "execute_result"
    }
   ],
   "source": [
    "function deduce_c_and_f(input)\n",
    "    ones = filter(x -> length(x) == 2, input)\n",
    "    @assert length(ones) == 1\n",
    "    one_letters = Set(ones[1])\n",
    "    @assert length(one_letters) == 2\n",
    "    return one_letters\n",
    "end\n",
    "\n",
    "function deduce_a(input, c_and_f)\n",
    "    sevens = filter(x -> length(x) == 3, input)\n",
    "    @assert length(sevens) == 1\n",
    "    a_set = setdiff(Set(sevens[1]), c_and_f)\n",
    "    @assert length(a_set) == 1\n",
    "    return a_set\n",
    "end\n",
    "\n",
    "function deduce_b_and_d(input, c_and_f)\n",
    "    fours = filter(x -> length(x) == 4, input)\n",
    "    @assert length(fours) == 1\n",
    "    four_letters = fours[1]\n",
    "    missing_letters = filter(x -> x ∉ c_and_f, four_letters)\n",
    "    @assert length(missing_letters) == 2\n",
    "    return Set(missing_letters)\n",
    "end\n",
    "\n",
    "function deduce_a_d_and_g(input)\n",
    "    five_segments_numbers = filter(x -> length(x) == 5, input)\n",
    "    candidate_letters = union(Set(five_segments_numbers)...)\n",
    "    candidate_letters = filter(x -> all(x .∈ five_segments_numbers), candidate_letters)\n",
    "    @assert length(candidate_letters) == 3\n",
    "    return candidate_letters\n",
    "end\n",
    "\n",
    "function disambiguate_c_and_f(input, c_and_f)\n",
    "    six_segments_numbers = filter(x -> length(x) == 6, input)\n",
    "    all_letters = union(Set(six_segments_numbers)...)\n",
    "    everywhere_letters = filter(x -> all(x .∈ six_segments_numbers), all_letters)\n",
    "    f_set = filter(x -> x ∈ everywhere_letters, c_and_f)\n",
    "    @assert length(f_set) == 1\n",
    "    c_set = setdiff(c_and_f, f_set)\n",
    "    @assert length(c_set) == 1\n",
    "    return c_set, f_set\n",
    "end\n",
    "\n",
    "function deduce_mapping(input)\n",
    "    c_and_f = deduce_c_and_f(input)\n",
    "    a_set = deduce_a(input, c_and_f)\n",
    "    mapping = Dict(first(a_set) => 'a')\n",
    "    b_and_d = deduce_b_and_d(input, c_and_f)\n",
    "    a_d_and_g = deduce_a_d_and_g(input)\n",
    "    d_and_g = setdiff(a_d_and_g, a_set)\n",
    "    @assert length(d_and_g) == 2\n",
    "    d_set = intersect(b_and_d, d_and_g)\n",
    "    @assert length(d_set) == 1\n",
    "    mapping[first(d_set)] = 'd'\n",
    "    b_set = setdiff(b_and_d, d_set)\n",
    "    @assert length(b_set) == 1\n",
    "    mapping[first(b_set)] = 'b'\n",
    "    g_set = setdiff(d_and_g, d_set)\n",
    "    @assert length(g_set) == 1\n",
    "    mapping[first(g_set)] = 'g'\n",
    "    c_set, f_set = disambiguate_c_and_f(input, c_and_f)\n",
    "    mapping[first(c_set)] = 'c'\n",
    "    mapping[first(f_set)] = 'f'\n",
    "    remaining_keys = filter(x -> x ∉ keys(mapping), \"abcdefg\")\n",
    "    @assert length(remaining_keys) == 1\n",
    "    remaining_values = filter(x -> x ∉ values(mapping), \"abcdefg\")\n",
    "    @assert length(remaining_values) == 1\n",
    "    mapping[remaining_keys[1]] = remaining_values[1]\n",
    "    return mapping\n",
    "end"
   ]
  },
  {
   "cell_type": "code",
   "execution_count": 379,
   "metadata": {},
   "outputs": [
    {
     "data": {
      "text/plain": [
       "part2 (generic function with 1 method)"
      ]
     },
     "execution_count": 379,
     "metadata": {},
     "output_type": "execute_result"
    }
   ],
   "source": [
    "int_segments = Dict(\n",
    "    Set(['a', 'b', 'c', 'e', 'f', 'g']) => 0,\n",
    "    Set(['c', 'f']) => 1 ,\n",
    "    Set(['a', 'c', 'd', 'e', 'g']) => 2,\n",
    "    Set(['a', 'c', 'd', 'f', 'g']) => 3,\n",
    "    Set(['b', 'c', 'd', 'f']) => 4,\n",
    "    Set(['a', 'b', 'd', 'f', 'g']) => 5,\n",
    "    Set(['a', 'b', 'd', 'e', 'f', 'g']) => 6,\n",
    "    Set(['a', 'c', 'f']) => 7,\n",
    "    Set(['a', 'b', 'c', 'd', 'e', 'f', 'g']) => 8,\n",
    "    Set(['a', 'b', 'c', 'd', 'f', 'g']) => 9\n",
    ")\n",
    "\n",
    "function get_digit(code, mapping)\n",
    "    decoded = Set([mapping[l] for l in code])\n",
    "    return int_segments[decoded]\n",
    "end\n",
    "\n",
    "function deduce_output_value(line)\n",
    "    input, output = line[1], line[2]\n",
    "    mapping = deduce_mapping(input)\n",
    "    digits = map(x -> get_digit(x, mapping), output)\n",
    "    return sum([digits[i] * 10^(length(digits) - i) for i in 1:length(digits)])\n",
    "end\n",
    "\n",
    "part2(lines) = sum(deduce_output_value.(lines))"
   ]
  },
  {
   "cell_type": "code",
   "execution_count": 380,
   "metadata": {},
   "outputs": [
    {
     "data": {
      "text/plain": [
       "61229"
      ]
     },
     "execution_count": 380,
     "metadata": {},
     "output_type": "execute_result"
    }
   ],
   "source": [
    "part2(lines)"
   ]
  }
 ],
 "metadata": {
  "kernelspec": {
   "display_name": "Julia 1.7.0",
   "language": "julia",
   "name": "julia-1.7"
  },
  "language_info": {
   "file_extension": ".jl",
   "mimetype": "application/julia",
   "name": "julia",
   "version": "1.7.0"
  }
 },
 "nbformat": 4,
 "nbformat_minor": 4
}
