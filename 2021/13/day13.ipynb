{
 "cells": [
  {
   "cell_type": "code",
   "execution_count": 131,
   "metadata": {},
   "outputs": [
    {
     "data": {
      "text/plain": [
       "split (generic function with 5 methods)"
      ]
     },
     "execution_count": 131,
     "metadata": {},
     "output_type": "execute_result"
    }
   ],
   "source": [
    "import Base: split\n",
    "\n",
    "function split(array::Vector{T}, separator::T)::Vector{Vector{T}} where T\n",
    "    chunks = Vector{T}[]\n",
    "    current = T[]\n",
    "    for elem in array\n",
    "        if elem == separator\n",
    "            push!(chunks, current)\n",
    "            current = T[]\n",
    "        else\n",
    "            push!(current, elem)\n",
    "        end\n",
    "    end\n",
    "    push!(chunks, current)\n",
    "    return chunks\n",
    "end"
   ]
  },
  {
   "cell_type": "code",
   "execution_count": 186,
   "metadata": {},
   "outputs": [
    {
     "data": {
      "text/plain": [
       "2-element Vector{Vector{String}}:\n",
       " [\"1101,291\", \"221,448\", \"1098,383\", \"217,399\", \"507,191\", \"410,240\", \"1036,449\", \"208,241\", \"469,548\", \"1064,838\"  …  \"480,402\", \"25,442\", \"432,516\", \"145,162\", \"221,334\", \"25,292\", \"95,365\", \"98,408\", \"1193,372\", \"565,73\"]\n",
       " [\"fold along x=655\", \"fold along y=447\", \"fold along x=327\", \"fold along y=223\", \"fold along x=163\", \"fold along y=111\", \"fold along x=81\", \"fold along y=55\", \"fold along x=40\", \"fold along y=27\", \"fold along y=13\", \"fold along y=6\"]"
      ]
     },
     "execution_count": 186,
     "metadata": {},
     "output_type": "execute_result"
    }
   ],
   "source": [
    "coordinates_str, folds_str = readlines(\"input.txt\") |> arr -> split(arr, \"\")"
   ]
  },
  {
   "cell_type": "code",
   "execution_count": 187,
   "metadata": {},
   "outputs": [
    {
     "data": {
      "text/plain": [
       "861-element Vector{Tuple{Int64, Int64}}:\n",
       " (1101, 291)\n",
       " (221, 448)\n",
       " (1098, 383)\n",
       " (217, 399)\n",
       " (507, 191)\n",
       " (410, 240)\n",
       " (1036, 449)\n",
       " (208, 241)\n",
       " (469, 548)\n",
       " (1064, 838)\n",
       " (189, 72)\n",
       " (1198, 812)\n",
       " (107, 483)\n",
       " ⋮\n",
       " (165, 208)\n",
       " (848, 885)\n",
       " (480, 402)\n",
       " (25, 442)\n",
       " (432, 516)\n",
       " (145, 162)\n",
       " (221, 334)\n",
       " (25, 292)\n",
       " (95, 365)\n",
       " (98, 408)\n",
       " (1193, 372)\n",
       " (565, 73)"
      ]
     },
     "execution_count": 187,
     "metadata": {},
     "output_type": "execute_result"
    }
   ],
   "source": [
    "coordinates = split.(coordinates_str, \",\") .|> x -> parse.(Int, x) |> Tuple"
   ]
  },
  {
   "cell_type": "code",
   "execution_count": 188,
   "metadata": {},
   "outputs": [
    {
     "data": {
      "text/plain": [
       "12-element Vector{Tuple{Char, Int64}}:\n",
       " ('x', 655)\n",
       " ('y', 447)\n",
       " ('x', 327)\n",
       " ('y', 223)\n",
       " ('x', 163)\n",
       " ('y', 111)\n",
       " ('x', 81)\n",
       " ('y', 55)\n",
       " ('x', 40)\n",
       " ('y', 27)\n",
       " ('y', 13)\n",
       " ('y', 6)"
      ]
     },
     "execution_count": 188,
     "metadata": {},
     "output_type": "execute_result"
    }
   ],
   "source": [
    "map_fold_instruction(str) = (str[12], parse(Int, str[14:end]))\n",
    "folds = map_fold_instruction.(folds_str)"
   ]
  },
  {
   "cell_type": "code",
   "execution_count": 189,
   "metadata": {},
   "outputs": [
    {
     "data": {
      "text/plain": [
       "execute_fold (generic function with 1 method)"
      ]
     },
     "execution_count": 189,
     "metadata": {},
     "output_type": "execute_result"
    }
   ],
   "source": [
    "function execute_vertical_fold(paper, fold_value)\n",
    "    result = Set()\n",
    "    for elem in paper\n",
    "        if elem[2] > fold_value\n",
    "            push!(result, (elem[1], 2*fold_value - elem[2]))\n",
    "        else\n",
    "            push!(result, elem)\n",
    "        end\n",
    "    end\n",
    "    return result\n",
    "end\n",
    "\n",
    "function execute_horizontal_fold(paper, fold_value)\n",
    "    result = Set()\n",
    "    for elem in paper\n",
    "        if elem[1] > fold_value\n",
    "            push!(result, (2*fold_value - elem[1], elem[2]))\n",
    "        else\n",
    "            push!(result, elem)\n",
    "        end\n",
    "    end\n",
    "    return result\n",
    "end\n",
    "\n",
    "function execute_fold(paper, fold)\n",
    "    if fold[1] == 'x'\n",
    "        return execute_horizontal_fold(paper, fold[2])\n",
    "    else\n",
    "        return execute_vertical_fold(paper, fold[2])\n",
    "    end\n",
    "end"
   ]
  },
  {
   "cell_type": "code",
   "execution_count": 190,
   "metadata": {},
   "outputs": [
    {
     "data": {
      "text/plain": [
       "part1 (generic function with 1 method)"
      ]
     },
     "execution_count": 190,
     "metadata": {},
     "output_type": "execute_result"
    }
   ],
   "source": [
    "function part1(paper, folds)\n",
    "    result = execute_fold(paper, folds[1])\n",
    "    return length(result)\n",
    "end"
   ]
  },
  {
   "cell_type": "code",
   "execution_count": 191,
   "metadata": {},
   "outputs": [
    {
     "data": {
      "text/plain": [
       "716"
      ]
     },
     "execution_count": 191,
     "metadata": {},
     "output_type": "execute_result"
    }
   ],
   "source": [
    "part1(coordinates, folds)"
   ]
  },
  {
   "cell_type": "code",
   "execution_count": 192,
   "metadata": {},
   "outputs": [
    {
     "data": {
      "text/plain": [
       "part2 (generic function with 1 method)"
      ]
     },
     "execution_count": 192,
     "metadata": {},
     "output_type": "execute_result"
    }
   ],
   "source": [
    "using SparseArrays\n",
    "\n",
    "function paper_to_matrix(paper)\n",
    "    columns = [c[1] + 1 for c in paper]\n",
    "    rows = [c[2] + 1 for c in paper]\n",
    "    return sparse(rows, columns, 1)\n",
    "end\n",
    "\n",
    "function part2(paper, folds)\n",
    "    result = paper\n",
    "    for fold in folds\n",
    "        result = execute_fold(result, fold)\n",
    "    end\n",
    "    return paper_to_matrix(result)\n",
    "end"
   ]
  },
  {
   "cell_type": "code",
   "execution_count": 208,
   "metadata": {},
   "outputs": [
    {
     "data": {
      "text/plain": [
       "6×39 SparseMatrixCSC{Int64, Int64} with 97 stored entries:\n",
       "⣏⡱⢸⣉⠆⡎⠑⢸⢔⠁⡯⠍⢸⠭⡂⡇⠀⢸⣉⠆\n",
       "⠃⠑⠘⠀⠀⠑⠊⠘⠈⠂⠃⠀⠘⠒⠁⠓⠒⠘⠈⠂"
      ]
     },
     "execution_count": 208,
     "metadata": {},
     "output_type": "execute_result"
    }
   ],
   "source": [
    "res2 = part2(coordinates, folds)"
   ]
  },
  {
   "cell_type": "code",
   "execution_count": 210,
   "metadata": {},
   "outputs": [
    {
     "name": "stdout",
     "output_type": "stream",
     "text": [
      "[1, 1, 1, 0, 0, 1, 1, 1, 0, 0, 0, 1, 1, 0, 0, 1, 0, 0, 1, 0, 1, 1, 1, 1, 0, 1, 1, 1, 0, 0, 1, 0, 0, 0, 0, 1, 1, 1, 0]\n",
      "[1, 0, 0, 1, 0, 1, 0, 0, 1, 0, 1, 0, 0, 1, 0, 1, 0, 1, 0, 0, 1, 0, 0, 0, 0, 1, 0, 0, 1, 0, 1, 0, 0, 0, 0, 1, 0, 0, 1]\n",
      "[1, 0, 0, 1, 0, 1, 0, 0, 1, 0, 1, 0, 0, 0, 0, 1, 1, 0, 0, 0, 1, 1, 1, 0, 0, 1, 1, 1, 0, 0, 1, 0, 0, 0, 0, 1, 0, 0, 1]\n",
      "[1, 1, 1, 0, 0, 1, 1, 1, 0, 0, 1, 0, 0, 0, 0, 1, 0, 1, 0, 0, 1, 0, 0, 0, 0, 1, 0, 0, 1, 0, 1, 0, 0, 0, 0, 1, 1, 1, 0]\n",
      "[1, 0, 1, 0, 0, 1, 0, 0, 0, 0, 1, 0, 0, 1, 0, 1, 0, 1, 0, 0, 1, 0, 0, 0, 0, 1, 0, 0, 1, 0, 1, 0, 0, 0, 0, 1, 0, 1, 0]\n",
      "[1, 0, 0, 1, 0, 1, 0, 0, 0, 0, 0, 1, 1, 0, 0, 1, 0, 0, 1, 0, 1, 0, 0, 0, 0, 1, 1, 1, 0, 0, 1, 1, 1, 1, 0, 1, 0, 0, 1]\n"
     ]
    }
   ],
   "source": [
    "for r in eachrow(res2)\n",
    "    println(r)\n",
    "end"
   ]
  },
  {
   "cell_type": "code",
   "execution_count": null,
   "metadata": {},
   "outputs": [],
   "source": []
  }
 ],
 "metadata": {
  "kernelspec": {
   "display_name": "Julia 1.7.0",
   "language": "julia",
   "name": "julia-1.7"
  },
  "language_info": {
   "file_extension": ".jl",
   "mimetype": "application/julia",
   "name": "julia",
   "version": "1.7.0"
  }
 },
 "nbformat": 4,
 "nbformat_minor": 4
}
