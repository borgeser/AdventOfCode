{
 "cells": [
  {
   "cell_type": "code",
   "execution_count": 21,
   "metadata": {},
   "outputs": [
    {
     "data": {
      "text/plain": [
       "2000-element Vector{Int64}:\n",
       "  156\n",
       "  176\n",
       "  175\n",
       "  176\n",
       "  183\n",
       "  157\n",
       "  150\n",
       "  153\n",
       "  154\n",
       "  170\n",
       "  162\n",
       "  167\n",
       "  170\n",
       "    ⋮\n",
       " 5230\n",
       " 5231\n",
       " 5208\n",
       " 5207\n",
       " 5208\n",
       " 5181\n",
       " 5161\n",
       " 5162\n",
       " 5164\n",
       " 5189\n",
       " 5190\n",
       " 5170"
      ]
     },
     "execution_count": 21,
     "metadata": {},
     "output_type": "execute_result"
    }
   ],
   "source": [
    "words = readlines(\"day1.txt\")\n",
    "numbers = map(x->parse(Int64,x), words)"
   ]
  },
  {
   "cell_type": "code",
   "execution_count": 22,
   "metadata": {},
   "outputs": [
    {
     "data": {
      "text/plain": [
       "part1 (generic function with 1 method)"
      ]
     },
     "execution_count": 22,
     "metadata": {},
     "output_type": "execute_result"
    }
   ],
   "source": [
    "function part1(numbers)\n",
    "    counter = 0\n",
    "    for i in 2:length(numbers)\n",
    "        if numbers[i] > numbers[i-1]\n",
    "            counter += 1        \n",
    "        end\n",
    "    end\n",
    "    return counter\n",
    "end"
   ]
  },
  {
   "cell_type": "code",
   "execution_count": 23,
   "metadata": {},
   "outputs": [
    {
     "data": {
      "text/plain": [
       "1393"
      ]
     },
     "execution_count": 23,
     "metadata": {},
     "output_type": "execute_result"
    }
   ],
   "source": [
    "part1(numbers)"
   ]
  },
  {
   "cell_type": "code",
   "execution_count": 24,
   "metadata": {},
   "outputs": [
    {
     "data": {
      "text/plain": [
       "part2 (generic function with 1 method)"
      ]
     },
     "execution_count": 24,
     "metadata": {},
     "output_type": "execute_result"
    }
   ],
   "source": [
    "function part2(numbers)\n",
    "    counter = 0\n",
    "    for i in 1:length(numbers) - 3\n",
    "        if numbers[i] < numbers[i+3]\n",
    "            counter += 1        \n",
    "        end\n",
    "    end\n",
    "    return counter\n",
    "end"
   ]
  },
  {
   "cell_type": "code",
   "execution_count": 25,
   "metadata": {},
   "outputs": [
    {
     "data": {
      "text/plain": [
       "1359"
      ]
     },
     "execution_count": 25,
     "metadata": {},
     "output_type": "execute_result"
    }
   ],
   "source": [
    "part2(numbers)"
   ]
  }
 ],
 "metadata": {
  "kernelspec": {
   "display_name": "Julia 1.7.0",
   "language": "julia",
   "name": "julia-1.7"
  },
  "language_info": {
   "file_extension": ".jl",
   "mimetype": "application/julia",
   "name": "julia",
   "version": "1.7.0"
  }
 },
 "nbformat": 4,
 "nbformat_minor": 4
}
