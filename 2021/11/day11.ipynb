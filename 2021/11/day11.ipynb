{
 "cells": [
  {
   "cell_type": "code",
   "execution_count": 195,
   "metadata": {},
   "outputs": [
    {
     "data": {
      "text/plain": [
       "matrixize (generic function with 1 method)"
      ]
     },
     "execution_count": 195,
     "metadata": {},
     "output_type": "execute_result"
    }
   ],
   "source": [
    "function matrixize(lines)\n",
    "    get_row(line) = split(line, \"\") .|> x -> parse(Int, x)\n",
    "    rows = get_row.(lines)\n",
    "    return hcat(rows...)'\n",
    "end"
   ]
  },
  {
   "cell_type": "code",
   "execution_count": 218,
   "metadata": {},
   "outputs": [
    {
     "data": {
      "text/plain": [
       "10×10 adjoint(::Matrix{Int64}) with eltype Int64:\n",
       " 7  6  1  2  6  4  8  2  1  7\n",
       " 7  6  1  7  2  3  7  6  7  2\n",
       " 2  8  5  3  8  7  1  8  3  6\n",
       " 7  2  1  4  3  6  7  1  3  5\n",
       " 1  5  3  3  3  6  5  6  1  4\n",
       " 6  2  5  8  1  7  2  8  6  2\n",
       " 5  3  7  7  6  7  5  5  8  3\n",
       " 5  6  1  3  2  6  8  2  7  8\n",
       " 8  3  8  1  1  3  4  4  6  5\n",
       " 3  4  4  5  4  2  8  7  3  3"
      ]
     },
     "execution_count": 218,
     "metadata": {},
     "output_type": "execute_result"
    }
   ],
   "source": [
    "lines = readlines(\"input.txt\")\n",
    "grid = matrixize(lines)"
   ]
  },
  {
   "cell_type": "code",
   "execution_count": 219,
   "metadata": {},
   "outputs": [
    {
     "data": {
      "text/plain": [
       "get_neighbours (generic function with 1 method)"
      ]
     },
     "execution_count": 219,
     "metadata": {},
     "output_type": "execute_result"
    }
   ],
   "source": [
    "function is_in_bounds(point, grid_size)\n",
    "    return (1 ≤ point[1] ≤ grid_size[1]) && (1 ≤ point[2] ≤ grid_size[2])\n",
    "end\n",
    "\n",
    "function get_neighbours(point, grid_size)\n",
    "    neighbours = CartesianIndex[]\n",
    "    for dr in [-1, 0, 1]\n",
    "        for dc in [-1, 0, 1]\n",
    "            neigh = Tuple(point) .+ (dr, dc)\n",
    "            if is_in_bounds(neigh, grid_size) && neigh != point\n",
    "                push!(neighbours, CartesianIndex(neigh))\n",
    "            end\n",
    "        end\n",
    "    end\n",
    "    return neighbours\n",
    "end"
   ]
  },
  {
   "cell_type": "code",
   "execution_count": 220,
   "metadata": {},
   "outputs": [
    {
     "data": {
      "text/plain": [
       "part1 (generic function with 1 method)"
      ]
     },
     "execution_count": 220,
     "metadata": {},
     "output_type": "execute_result"
    }
   ],
   "source": [
    "get_flashed_cells(grid, old_flashed) = filter(c -> grid[c] > 9 && c ∉ old_flashed, CartesianIndices(grid))\n",
    "\n",
    "function propagate_flash(grid, new_flashed, old_flashed)\n",
    "    grid_size = size(grid)\n",
    "    neighbours_list = [get_neighbours(c, grid_size) for c in new_flashed if c ∉ old_flashed]\n",
    "    for neighbours in neighbours_list\n",
    "        for n in neighbours\n",
    "            grid[n] += 1\n",
    "        end\n",
    "    end\n",
    "    return grid\n",
    "end\n",
    "\n",
    "reset_energy(cell) = cell > 9 ? 0 : cell\n",
    "\n",
    "function process_step(grid)\n",
    "    grid = grid .+ 1\n",
    "    old_flashed = []\n",
    "    new_flashed = get_flashed_cells(grid, old_flashed)\n",
    "    while length(new_flashed) > 0\n",
    "        grid = propagate_flash(grid, new_flashed, old_flashed)\n",
    "        append!(old_flashed, new_flashed)\n",
    "        new_flashed = get_flashed_cells(grid, old_flashed)\n",
    "    end\n",
    "    grid = reset_energy.(grid)\n",
    "    return grid, length(old_flashed)\n",
    "end\n",
    "\n",
    "function part1(grid)\n",
    "    number_of_steps = 100\n",
    "    total_flash = 0\n",
    "    for s in 1:number_of_steps\n",
    "        grid, flash_count = process_step(grid)\n",
    "        total_flash += flash_count\n",
    "    end\n",
    "    return total_flash\n",
    "end"
   ]
  },
  {
   "cell_type": "code",
   "execution_count": 221,
   "metadata": {},
   "outputs": [
    {
     "data": {
      "text/plain": [
       "1739"
      ]
     },
     "execution_count": 221,
     "metadata": {},
     "output_type": "execute_result"
    }
   ],
   "source": [
    "part1(grid)"
   ]
  },
  {
   "cell_type": "code",
   "execution_count": 222,
   "metadata": {},
   "outputs": [
    {
     "data": {
      "text/plain": [
       "part2 (generic function with 1 method)"
      ]
     },
     "execution_count": 222,
     "metadata": {},
     "output_type": "execute_result"
    }
   ],
   "source": [
    "function part2(grid)\n",
    "    step = 0\n",
    "    while sum(grid .== 0) != length(grid)\n",
    "        step += 1\n",
    "        grid, _ = process_step(grid)\n",
    "    end\n",
    "    return step\n",
    "end"
   ]
  },
  {
   "cell_type": "code",
   "execution_count": 223,
   "metadata": {},
   "outputs": [
    {
     "data": {
      "text/plain": [
       "324"
      ]
     },
     "execution_count": 223,
     "metadata": {},
     "output_type": "execute_result"
    }
   ],
   "source": [
    "part2(grid)"
   ]
  }
 ],
 "metadata": {
  "kernelspec": {
   "display_name": "Julia 1.7.0",
   "language": "julia",
   "name": "julia-1.7"
  },
  "language_info": {
   "file_extension": ".jl",
   "mimetype": "application/julia",
   "name": "julia",
   "version": "1.7.0"
  }
 },
 "nbformat": 4,
 "nbformat_minor": 4
}
