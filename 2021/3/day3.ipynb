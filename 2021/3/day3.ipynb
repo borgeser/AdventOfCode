{
 "cells": [
  {
   "cell_type": "code",
   "execution_count": 19,
   "metadata": {},
   "outputs": [
    {
     "data": {
      "text/plain": [
       "1000-element Vector{String}:\n",
       " \"011110111110\"\n",
       " \"110111000111\"\n",
       " \"001000001010\"\n",
       " \"000101111101\"\n",
       " \"101011011110\"\n",
       " \"010010010111\"\n",
       " \"111101001100\"\n",
       " \"111101011100\"\n",
       " \"110011101101\"\n",
       " \"001111010011\"\n",
       " \"110000000110\"\n",
       " \"111000010001\"\n",
       " \"011011011000\"\n",
       " ⋮\n",
       " \"111111100101\"\n",
       " \"101000010101\"\n",
       " \"001011111000\"\n",
       " \"001110110011\"\n",
       " \"010101100000\"\n",
       " \"001010101010\"\n",
       " \"111001100101\"\n",
       " \"100110000011\"\n",
       " \"010101011011\"\n",
       " \"101001110100\"\n",
       " \"100011100001\"\n",
       " \"100110101000\""
      ]
     },
     "execution_count": 19,
     "metadata": {},
     "output_type": "execute_result"
    }
   ],
   "source": [
    "raw_lines = readlines(\"input.txt\")"
   ]
  },
  {
   "cell_type": "code",
   "execution_count": 20,
   "metadata": {},
   "outputs": [
    {
     "data": {
      "text/plain": [
       "part1 (generic function with 1 method)"
      ]
     },
     "execution_count": 20,
     "metadata": {},
     "output_type": "execute_result"
    }
   ],
   "source": [
    "function max_bits(lines)\n",
    "    @assert length(lines) > 0\n",
    "    best_bits = Char[]\n",
    "    for i in 1:length(lines[1])\n",
    "        zeros = 0\n",
    "        ones = 0\n",
    "        for line in lines\n",
    "            if line[i] == '0'\n",
    "                zeros += 1\n",
    "            elseif line[i] == '1'\n",
    "                ones += 1\n",
    "            else\n",
    "                @assert throw(AssertionError(\"Should not happen\"))\n",
    "            end\n",
    "        end\n",
    "        @assert zeros != ones\n",
    "        push!(best_bits, zeros > ones ? '0' : '1')\n",
    "    end\n",
    "    return best_bits\n",
    "end\n",
    "\n",
    "function flip_bits(n, k)\n",
    "    mask = (1 << k) - 1\n",
    "    return ~n & mask\n",
    "end\n",
    "\n",
    "function part1(lines)\n",
    "    best_bits = join(max_bits(lines))\n",
    "    gamma_rate = parse(Int, best_bits, base=2)\n",
    "    espilon_rate = flip_bits(gamma_rate, length(best_bits))\n",
    "    return gamma_rate * espilon_rate\n",
    "end"
   ]
  },
  {
   "cell_type": "code",
   "execution_count": 21,
   "metadata": {},
   "outputs": [
    {
     "data": {
      "text/plain": [
       "852500"
      ]
     },
     "execution_count": 21,
     "metadata": {},
     "output_type": "execute_result"
    }
   ],
   "source": [
    "part1(raw_lines)"
   ]
  },
  {
   "cell_type": "code",
   "execution_count": 22,
   "metadata": {},
   "outputs": [
    {
     "data": {
      "text/plain": [
       "part2 (generic function with 1 method)"
      ]
     },
     "execution_count": 22,
     "metadata": {},
     "output_type": "execute_result"
    }
   ],
   "source": [
    "function get_high_rating(lines, idx)\n",
    "    if length(lines) == 1\n",
    "        return lines[1]\n",
    "    end\n",
    "    zeros = filter(l -> l[idx] == '0', lines)\n",
    "    ones = filter(l -> l[idx] == '1', lines)\n",
    "    if length(zeros) > length(ones)\n",
    "        return get_high_rating(zeros, idx + 1)\n",
    "    elseif length(ones) > length(zeros)\n",
    "        return get_high_rating(ones, idx + 1)\n",
    "    else\n",
    "        return get_high_rating(ones, idx + 1)\n",
    "    end\n",
    "end\n",
    "\n",
    "function get_low_rating(lines, idx)\n",
    "    if length(lines) == 1\n",
    "        return lines[1]\n",
    "    end\n",
    "    zeros = filter(l -> l[idx] == '0', lines)\n",
    "    ones = filter(l -> l[idx] == '1', lines)\n",
    "    if length(zeros) > length(ones)\n",
    "        return get_low_rating(ones, idx + 1)\n",
    "    elseif length(ones) > length(zeros)\n",
    "        return get_low_rating(zeros, idx + 1)\n",
    "    else\n",
    "        return get_low_rating(zeros, idx + 1)\n",
    "    end\n",
    "end\n",
    "\n",
    "function part2(lines)\n",
    "    return parse(Int, get_high_rating(lines, 1), base=2) * parse(Int, get_low_rating(lines, 1), base=2)\n",
    "end"
   ]
  },
  {
   "cell_type": "code",
   "execution_count": 23,
   "metadata": {},
   "outputs": [
    {
     "data": {
      "text/plain": [
       "1007985"
      ]
     },
     "execution_count": 23,
     "metadata": {},
     "output_type": "execute_result"
    }
   ],
   "source": [
    "part2(raw_lines)"
   ]
  }
 ],
 "metadata": {
  "kernelspec": {
   "display_name": "Julia 1.7.0",
   "language": "julia",
   "name": "julia-1.7"
  },
  "language_info": {
   "file_extension": ".jl",
   "mimetype": "application/julia",
   "name": "julia",
   "version": "1.7.0"
  }
 },
 "nbformat": 4,
 "nbformat_minor": 4
}
