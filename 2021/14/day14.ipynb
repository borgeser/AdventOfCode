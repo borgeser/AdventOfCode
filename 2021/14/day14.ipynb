{
 "cells": [
  {
   "cell_type": "code",
   "execution_count": 208,
   "metadata": {},
   "outputs": [
    {
     "data": {
      "text/plain": [
       "split (generic function with 5 methods)"
      ]
     },
     "execution_count": 208,
     "metadata": {},
     "output_type": "execute_result"
    }
   ],
   "source": [
    "import Base: split\n",
    "\n",
    "function split(array::Vector{T}, separator::T)::Vector{Vector{T}} where T\n",
    "    chunks = Vector{T}[]\n",
    "    current = T[]\n",
    "    for elem in array\n",
    "        if elem == separator\n",
    "            push!(chunks, current)\n",
    "            current = T[]\n",
    "        else\n",
    "            push!(current, elem)\n",
    "        end\n",
    "    end\n",
    "    push!(chunks, current)\n",
    "    return chunks\n",
    "end"
   ]
  },
  {
   "cell_type": "code",
   "execution_count": 219,
   "metadata": {},
   "outputs": [
    {
     "data": {
      "text/plain": [
       "2-element Vector{Vector{String}}:\n",
       " [\"CHBBKPHCPHPOKNSNCOVB\"]\n",
       " [\"SP -> K\", \"BB -> H\", \"BH -> S\", \"BS -> H\", \"PN -> P\", \"OB -> S\", \"ON -> C\", \"HK -> K\", \"BN -> V\", \"OH -> F\"  …  \"VK -> H\", \"HO -> V\", \"CP -> F\", \"SF -> N\", \"FC -> P\", \"NO -> K\", \"VH -> S\", \"FN -> F\", \"PV -> O\", \"SC -> N\"]"
      ]
     },
     "execution_count": 219,
     "metadata": {},
     "output_type": "execute_result"
    }
   ],
   "source": [
    "polymers, instructions_raw = readlines(\"input.txt\") |> arr -> split(arr, \"\")"
   ]
  },
  {
   "cell_type": "code",
   "execution_count": 220,
   "metadata": {},
   "outputs": [
    {
     "data": {
      "text/plain": [
       "Dict{SubString{String}, Char} with 100 entries:\n",
       "  \"FN\" => 'F'\n",
       "  \"PO\" => 'B'\n",
       "  \"BC\" => 'K'\n",
       "  \"KF\" => 'K'\n",
       "  \"CC\" => 'F'\n",
       "  \"BV\" => 'V'\n",
       "  \"OP\" => 'V'\n",
       "  \"PF\" => 'H'\n",
       "  \"BB\" => 'H'\n",
       "  \"VN\" => 'H'\n",
       "  \"NH\" => 'K'\n",
       "  \"PP\" => 'S'\n",
       "  \"NB\" => 'V'\n",
       "  \"SF\" => 'N'\n",
       "  \"CS\" => 'S'\n",
       "  \"PN\" => 'P'\n",
       "  \"CF\" => 'F'\n",
       "  \"NO\" => 'K'\n",
       "  \"KV\" => 'V'\n",
       "  \"OS\" => 'S'\n",
       "  \"VH\" => 'S'\n",
       "  \"PS\" => 'B'\n",
       "  \"BS\" => 'H'\n",
       "  \"NP\" => 'P'\n",
       "  \"HO\" => 'V'\n",
       "  ⋮    => ⋮"
      ]
     },
     "execution_count": 220,
     "metadata": {},
     "output_type": "execute_result"
    }
   ],
   "source": [
    "polymer = polymers[1]\n",
    "instructions = split.(instructions_raw, \" -> \") .|> Tuple .|> (t -> (t[1], only(t[2]))) |> Dict"
   ]
  },
  {
   "cell_type": "code",
   "execution_count": 221,
   "metadata": {},
   "outputs": [
    {
     "data": {
      "text/plain": [
       "execute_steps (generic function with 1 method)"
      ]
     },
     "execution_count": 221,
     "metadata": {},
     "output_type": "execute_result"
    }
   ],
   "source": [
    "function do_step(polymer, instructions)\n",
    "    insertions = map(i -> instructions[polymer[i:i+1]], 1:length(polymer)-1)\n",
    "    zipped = zip(polymer, insertions)\n",
    "    alterned = reduce((acc, elem) -> push!(acc, elem[1], elem[2]), zipped, init=Char[])\n",
    "    push!(alterned, polymer[end]) # last element was missing\n",
    "    return String(alterned)\n",
    "end\n",
    "\n",
    "function execute_steps(n, polymer, instructions)\n",
    "    res = polymer\n",
    "    for _ in 1:n\n",
    "       res = do_step(res, instructions)\n",
    "    end\n",
    "    return res\n",
    "end"
   ]
  },
  {
   "cell_type": "code",
   "execution_count": 222,
   "metadata": {},
   "outputs": [
    {
     "name": "stderr",
     "output_type": "stream",
     "text": [
      "\u001b[32m\u001b[1m   Resolving\u001b[22m\u001b[39m package versions...\n",
      "\u001b[32m\u001b[1m  No Changes\u001b[22m\u001b[39m to `~/.julia/environments/v1.7/Project.toml`\n",
      "\u001b[32m\u001b[1m  No Changes\u001b[22m\u001b[39m to `~/.julia/environments/v1.7/Manifest.toml`\n"
     ]
    },
    {
     "data": {
      "text/plain": [
       "part1 (generic function with 2 methods)"
      ]
     },
     "execution_count": 222,
     "metadata": {},
     "output_type": "execute_result"
    }
   ],
   "source": [
    "using Pkg\n",
    "Pkg.add(\"StatsBase\")\n",
    "\n",
    "import StatsBase: countmap\n",
    "\n",
    "function part1(n, polymer, instructions)\n",
    "    res = execute_steps(n, polymer, instructions)\n",
    "    counts = (values ∘ countmap)(res)\n",
    "    return maximum(counts) - minimum(counts)\n",
    "end"
   ]
  },
  {
   "cell_type": "code",
   "execution_count": 223,
   "metadata": {},
   "outputs": [
    {
     "data": {
      "text/plain": [
       "3118"
      ]
     },
     "execution_count": 223,
     "metadata": {},
     "output_type": "execute_result"
    }
   ],
   "source": [
    "part1(10, polymer, instructions)"
   ]
  },
  {
   "cell_type": "code",
   "execution_count": 228,
   "metadata": {},
   "outputs": [
    {
     "data": {
      "text/plain": [
       "part2 (generic function with 1 method)"
      ]
     },
     "execution_count": 228,
     "metadata": {},
     "output_type": "execute_result"
    }
   ],
   "source": [
    "reduce_pairs(l) = reduce((dico, pair) -> setindex!(dico, get(dico, pair[1], 0) + pair[2], pair[1]), l, init=Dict{typeof(l[1][1]), Int}())\n",
    "\n",
    "function dictify(polymer)\n",
    "    pairs = map(i -> polymer[i:i+1] => 1, 1:length(polymer)-1)\n",
    "    return reduce_pairs(pairs)\n",
    "end\n",
    "\n",
    "function expanse_polymer_dict(key, polymer_dict, instructions)\n",
    "    new_elem = instructions[key]\n",
    "    new_key_1 = String([key[1], new_elem])\n",
    "    new_key_2 = String([new_elem, key[2]])\n",
    "    count = polymer_dict[key]\n",
    "    return [(new_key_1, count), (new_key_2, count)]\n",
    "end\n",
    "\n",
    "function do_step_fast(polymer_dict, instructions)\n",
    "    nested_counts = [expanse_polymer_dict(k, polymer_dict, instructions) for k in keys(polymer_dict)]\n",
    "    new_pairs = vcat(nested_counts...)\n",
    "    no_duplicates_pairs = reduce_pairs(new_pairs)\n",
    "    return no_duplicates_pairs\n",
    "end\n",
    "\n",
    "function execute_steps_fast(n, polymer_dict, instructions)\n",
    "    res = polymer_dict\n",
    "    for _ in 1:n\n",
    "       res = do_step_fast(res, instructions)\n",
    "    end\n",
    "    return res\n",
    "end\n",
    "\n",
    "function count_doubled_letters(polymer_dict, first_letter, last_letter)\n",
    "    nested_counts = [[(k[1], polymer_dict[k]), (k[2], polymer_dict[k])] for k in keys(polymer_dict)]\n",
    "    new_pairs = vcat(nested_counts...)\n",
    "    counts = reduce_pairs(new_pairs)\n",
    "    counts[first_letter] = get(counts, first_letter, 0) + 1\n",
    "    counts[last_letter] = get(counts, last_letter, 0) + 1\n",
    "    return counts\n",
    "end\n",
    "\n",
    "function part2(n, polymer, instructions)\n",
    "    polymer_dict = dictify(polymer)\n",
    "    res = execute_steps_fast(n, polymer_dict, instructions)\n",
    "    counts = (values ∘ count_doubled_letters)(res, polymer[1], polymer[end])\n",
    "    return (maximum(counts) - minimum(counts)) / 2\n",
    "end"
   ]
  },
  {
   "cell_type": "code",
   "execution_count": 229,
   "metadata": {},
   "outputs": [
    {
     "data": {
      "text/plain": [
       "4.332887448171e12"
      ]
     },
     "execution_count": 229,
     "metadata": {},
     "output_type": "execute_result"
    }
   ],
   "source": [
    "part2(40, polymer, instructions)"
   ]
  }
 ],
 "metadata": {
  "kernelspec": {
   "display_name": "Julia 1.7.0",
   "language": "julia",
   "name": "julia-1.7"
  },
  "language_info": {
   "file_extension": ".jl",
   "mimetype": "application/julia",
   "name": "julia",
   "version": "1.7.0"
  }
 },
 "nbformat": 4,
 "nbformat_minor": 4
}
