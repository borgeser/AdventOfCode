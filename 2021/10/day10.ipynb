{
 "cells": [
  {
   "cell_type": "code",
   "execution_count": 50,
   "metadata": {},
   "outputs": [
    {
     "data": {
      "text/plain": [
       "94-element Vector{String}:\n",
       " \"{[<([<[[(<[({<<><>><()[]>}<(()(\" ⋯ 47 bytes ⋯ \"]){<[]<>>({}{})})]>)[(({([{}[]]\"\n",
       " \"{{[[(<[[[<[<<{()()}(<>{})>[<<><\" ⋯ 35 bytes ⋯ \"]]([[[{}<>]]<<()[]>{()<>}>]([<<\"\n",
       " \"([<{[[{{((([(<[]<>>{[]<>})<([])\" ⋯ 29 bytes ⋯ \"()[]}<()[]>}<{(){}}>]]]<{(<[{}<\"\n",
       " \"(({(<{(([<[({([]())(<>())}{([]{\" ⋯ 42 bytes ⋯ \"({[[]{}]<[]<>>})}>[[[{<<>[]>(()\"\n",
       " \"[([<([{({{[{[([]{})[{}[]]][[{}{\" ⋯ 41 bytes ⋯ \"{}{}]<(){}>]><{{{}[]}[()<>]}[{{\"\n",
       " \"<(([<{{<(<[(<{()()}>(({}()){()[\" ⋯ 45 bytes ⋯ \">(([()()][()<>])({()<>}<[]<>>))\"\n",
       " \"[{({<(<[{({{{[()[]](<>[])}{([]{\" ⋯ 30 bytes ⋯ \">)([]())>}<{({}<>)(<><>)}{[{}{}\"\n",
       " \"([(<{<[<{[({[<[]{}><<><>>]<({}[\" ⋯ 37 bytes ⋯ \"{<<><>>[[]{}]}(<()<>>{()}))<{<[\"\n",
       " \"({{([(<{{{{{{([]{}){<>{}}}}{<<(\" ⋯ 42 bytes ⋯ \"<()[]><[][]>}](([[]](()()))<[[]\"\n",
       " \"(<<[<{{{({{<{{(){}}{<>()}}<({}{\" ⋯ 46 bytes ⋯ \"({}[])(<>{})][{<>}])[{[()<>]<{}\"\n",
       " \"{[(<<((<[[<{<{<>()}[{}[]]>}{{((\" ⋯ 38 bytes ⋯ \"){[<>()]{{}()}}){{[()()][<><>]}\"\n",
       " \"{(((([[(<[({({{}()}[<>[]])<(<><\" ⋯ 28 bytes ⋯ \")<>>>})<[[<[]{}><<>{}>]]>]<<{{[\"\n",
       " \"[{(<[[(<(<[{<({}[])<{}{}>>(<[]<\" ⋯ 45 bytes ⋯ \"[(<>())(<>{})]{{{}[]}}][({{}[]}\"\n",
       " ⋮\n",
       " \"[((<{[{{(<{[({{}[]}((){}))([[][\" ⋯ 47 bytes ⋯ \"{{{(<[(<{{()()}}>{[<{}<>><<>[]>\"\n",
       " \"{([<<{(<([[({{{}<>}<(){}>}<<()[\" ⋯ 44 bytes ⋯ \"{<>[]}{[][]}>[[<>()]{<>[]}]]{{[\"\n",
       " \"[<{(<{([{{(([<<>()>]{<(){}><()<\" ⋯ 32 bytes ⋯ \"{<>[]}}[[{}<>]])}[{<[()[]]<{}<>\"\n",
       " \"{[(<(<{(<<[{[<[]()>(<>[])][{{}}\" ⋯ 45 bytes ⋯ \"()>([]())]({(){}}(()<>))>([(<>(\"\n",
       " \"{{([[([[[<(({<{}<>>[<>[]]}{([]<\" ⋯ 46 bytes ⋯ \")<>]]<((){})<[]{}>>}{<<[]<>><()\"\n",
       " \"<({([[[[[({[[{{}<>}({}<>)]({<>[\" ⋯ 44 bytes ⋯ \"({}[])[()[]])[{{}{}}(<>)])(<<<>\"\n",
       " \"[({{<{[([(((<{[]{}}{<>()}><[{}<\" ⋯ 33 bytes ⋯ \")[{}{}]>){{[[]]<[]{}>}((()[])[(\"\n",
       " \"(({<[<<{{[[<{(<>{})([]())}([[]{\" ⋯ 41 bytes ⋯ \"<[<<()[]><<>()>>[{{}<>}[<>]]]>]\"\n",
       " \"((<[[<{{{[({<(()[])<()<>>>})]{<\" ⋯ 45 bytes ⋯ \"[])[{}{}])>>}}}[[[{{{{[]{}}({}[\"\n",
       " \"([<[<{{{{[<<{{<>[]}([]<>)}><{{(\" ⋯ 34 bytes ⋯ \"<()[]>]({[][]}(()<>))}<{(<>())(\"\n",
       " \"{((<(([[<[(<[{()[]}([]())>>[<[<\" ⋯ 31 bytes ⋯ \"}>(([]<>){<>{}}))<[[[]<>]{[]()}\"\n",
       " \"[(<[([([{{{<([[]<>]<<>>)[{<>[]}\" ⋯ 29 bytes ⋯ \"<>()}])}([<[(){}]([][])><(()())\""
      ]
     },
     "execution_count": 50,
     "metadata": {},
     "output_type": "execute_result"
    }
   ],
   "source": [
    "lines = readlines(\"input.txt\")"
   ]
  },
  {
   "cell_type": "code",
   "execution_count": 51,
   "metadata": {},
   "outputs": [
    {
     "data": {
      "text/plain": [
       "part1 (generic function with 1 method)"
      ]
     },
     "execution_count": 51,
     "metadata": {},
     "output_type": "execute_result"
    }
   ],
   "source": [
    "opening_equivalents = Dict(\n",
    "    ')' => '(', \n",
    "    ']' => '[', \n",
    "    '}' => '{', \n",
    "    '>' => '<'\n",
    ")\n",
    "\n",
    "function first_illegal_character(line)\n",
    "    stack = Char[]\n",
    "    for c in line\n",
    "        if c in \"([{<\"\n",
    "            push!(stack, c)\n",
    "        elseif length(stack) == 0\n",
    "            return c\n",
    "        else\n",
    "            last_elem = pop!(stack)\n",
    "            if last_elem != opening_equivalents[c]\n",
    "                return c\n",
    "            end\n",
    "        end\n",
    "    end\n",
    "    return nothing\n",
    "end\n",
    "\n",
    "part1_scores_map = Dict(\n",
    "    ')' => 3, \n",
    "    ']' => 57, \n",
    "    '}' => 1197, \n",
    "    '>' => 25137\n",
    ")\n",
    "\n",
    "function part1(lines)\n",
    "    illegal_characters = first_illegal_character.(lines) |> chars -> filter(!isnothing, chars)\n",
    "    scores = map(x -> part1_scores_map[x], illegal_characters)\n",
    "    return sum(scores)\n",
    "end"
   ]
  },
  {
   "cell_type": "code",
   "execution_count": 52,
   "metadata": {},
   "outputs": [
    {
     "data": {
      "text/plain": [
       "294195"
      ]
     },
     "execution_count": 52,
     "metadata": {},
     "output_type": "execute_result"
    }
   ],
   "source": [
    "part1(lines)"
   ]
  },
  {
   "cell_type": "code",
   "execution_count": 53,
   "metadata": {},
   "outputs": [
    {
     "data": {
      "text/plain": [
       "part2 (generic function with 1 method)"
      ]
     },
     "execution_count": 53,
     "metadata": {},
     "output_type": "execute_result"
    }
   ],
   "source": [
    "closing_equivalents = Dict(\n",
    "    '(' => ')', \n",
    "    '[' => ']', \n",
    "    '{' => '}', \n",
    "    '<' => '>'\n",
    ")\n",
    "\n",
    "function get_stack(line)\n",
    "    stack = Char[]\n",
    "    for c in line\n",
    "        if c in \"([{<\"\n",
    "            push!(stack, c)\n",
    "        else\n",
    "            pop!(stack)\n",
    "        end\n",
    "    end\n",
    "    return stack\n",
    "end\n",
    "\n",
    "function correct_line(line)\n",
    "    stack = get_stack(line)\n",
    "    reversed_stack = reverse(stack)\n",
    "    completions = map(x -> closing_equivalents[x], reversed_stack)\n",
    "    return completions\n",
    "end\n",
    "\n",
    "closing_scores = Dict(\n",
    "    ')' => 1, \n",
    "    ']' => 2, \n",
    "    '}' => 3, \n",
    "    '>' => 4\n",
    ")\n",
    "\n",
    "function part2_score(line)\n",
    "    correction = correct_line(line)\n",
    "    score = 0\n",
    "    for c in correction\n",
    "        score *= 5\n",
    "        score += closing_scores[c]\n",
    "    end\n",
    "    return score\n",
    "end\n",
    "\n",
    "function part2(lines)\n",
    "    incomplete_lines = filter(l -> first_illegal_character(l) |> isnothing, lines)\n",
    "    scores = part2_score.(incomplete_lines)\n",
    "    sorted_scores = sort(scores)\n",
    "    return sorted_scores[(length(sorted_scores) + 1) ÷ 2]\n",
    "end"
   ]
  },
  {
   "cell_type": "code",
   "execution_count": 54,
   "metadata": {},
   "outputs": [
    {
     "data": {
      "text/plain": [
       "3490802734"
      ]
     },
     "execution_count": 54,
     "metadata": {},
     "output_type": "execute_result"
    }
   ],
   "source": [
    "part2(lines)"
   ]
  }
 ],
 "metadata": {
  "kernelspec": {
   "display_name": "Julia 1.7.0",
   "language": "julia",
   "name": "julia-1.7"
  },
  "language_info": {
   "file_extension": ".jl",
   "mimetype": "application/julia",
   "name": "julia",
   "version": "1.7.0"
  }
 },
 "nbformat": 4,
 "nbformat_minor": 4
}
